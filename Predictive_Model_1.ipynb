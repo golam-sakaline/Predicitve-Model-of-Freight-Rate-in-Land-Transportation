{
 "cells": [
  {
   "cell_type": "code",
   "execution_count": 1,
   "metadata": {},
   "outputs": [],
   "source": [
    "import pandas as pd\n",
    "import numpy as np\n",
    "import seaborn as sns\n",
    "import matplotlib.pyplot as plt"
   ]
  },
  {
   "cell_type": "markdown",
   "metadata": {},
   "source": [
    "# Importing csv file"
   ]
  },
  {
   "cell_type": "code",
   "execution_count": 2,
   "metadata": {},
   "outputs": [],
   "source": [
    "data=pd.read_csv(\"train.csv\")"
   ]
  },
  {
   "cell_type": "markdown",
   "metadata": {},
   "source": [
    "# Data Reading"
   ]
  },
  {
   "cell_type": "code",
   "execution_count": 3,
   "metadata": {},
   "outputs": [
    {
     "data": {
      "text/html": [
       "<div>\n",
       "<style scoped>\n",
       "    .dataframe tbody tr th:only-of-type {\n",
       "        vertical-align: middle;\n",
       "    }\n",
       "\n",
       "    .dataframe tbody tr th {\n",
       "        vertical-align: top;\n",
       "    }\n",
       "\n",
       "    .dataframe thead th {\n",
       "        text-align: right;\n",
       "    }\n",
       "</style>\n",
       "<table border=\"1\" class=\"dataframe\">\n",
       "  <thead>\n",
       "    <tr style=\"text-align: right;\">\n",
       "      <th></th>\n",
       "      <th>Route</th>\n",
       "      <th>TruckType</th>\n",
       "      <th>duration</th>\n",
       "      <th>distance</th>\n",
       "      <th>weekday</th>\n",
       "      <th>month</th>\n",
       "      <th>day</th>\n",
       "      <th>diesel</th>\n",
       "      <th>year</th>\n",
       "      <th>Rate</th>\n",
       "    </tr>\n",
       "  </thead>\n",
       "  <tbody>\n",
       "    <tr>\n",
       "      <th>0</th>\n",
       "      <td>Cross Border</td>\n",
       "      <td>15 M Flatbed Trailer</td>\n",
       "      <td>82054.9</td>\n",
       "      <td>1801.5</td>\n",
       "      <td>0</td>\n",
       "      <td>10</td>\n",
       "      <td>1</td>\n",
       "      <td>NaN</td>\n",
       "      <td>2018</td>\n",
       "      <td>3500.0</td>\n",
       "    </tr>\n",
       "    <tr>\n",
       "      <th>1</th>\n",
       "      <td>Local</td>\n",
       "      <td>15 M Flatbed Trailer</td>\n",
       "      <td>7307.8</td>\n",
       "      <td>127.3</td>\n",
       "      <td>0</td>\n",
       "      <td>10</td>\n",
       "      <td>1</td>\n",
       "      <td>NaN</td>\n",
       "      <td>2018</td>\n",
       "      <td>850.0</td>\n",
       "    </tr>\n",
       "    <tr>\n",
       "      <th>2</th>\n",
       "      <td>Cross Border</td>\n",
       "      <td>15 M Flatbed Trailer</td>\n",
       "      <td>28168.8</td>\n",
       "      <td>604.0</td>\n",
       "      <td>0</td>\n",
       "      <td>10</td>\n",
       "      <td>1</td>\n",
       "      <td>NaN</td>\n",
       "      <td>2018</td>\n",
       "      <td>2300.0</td>\n",
       "    </tr>\n",
       "    <tr>\n",
       "      <th>3</th>\n",
       "      <td>Local</td>\n",
       "      <td>15 M Flatbed Trailer</td>\n",
       "      <td>7307.8</td>\n",
       "      <td>127.3</td>\n",
       "      <td>1</td>\n",
       "      <td>10</td>\n",
       "      <td>2</td>\n",
       "      <td>NaN</td>\n",
       "      <td>2018</td>\n",
       "      <td>750.0</td>\n",
       "    </tr>\n",
       "    <tr>\n",
       "      <th>4</th>\n",
       "      <td>Local</td>\n",
       "      <td>15 M Flatbed Trailer</td>\n",
       "      <td>7307.8</td>\n",
       "      <td>127.3</td>\n",
       "      <td>1</td>\n",
       "      <td>10</td>\n",
       "      <td>2</td>\n",
       "      <td>NaN</td>\n",
       "      <td>2018</td>\n",
       "      <td>750.0</td>\n",
       "    </tr>\n",
       "  </tbody>\n",
       "</table>\n",
       "</div>"
      ],
      "text/plain": [
       "          Route             TruckType  duration  distance  weekday  month  \\\n",
       "0  Cross Border  15 M Flatbed Trailer   82054.9    1801.5        0     10   \n",
       "1         Local  15 M Flatbed Trailer    7307.8     127.3        0     10   \n",
       "2  Cross Border  15 M Flatbed Trailer   28168.8     604.0        0     10   \n",
       "3         Local  15 M Flatbed Trailer    7307.8     127.3        1     10   \n",
       "4         Local  15 M Flatbed Trailer    7307.8     127.3        1     10   \n",
       "\n",
       "   day  diesel  year    Rate  \n",
       "0    1     NaN  2018  3500.0  \n",
       "1    1     NaN  2018   850.0  \n",
       "2    1     NaN  2018  2300.0  \n",
       "3    2     NaN  2018   750.0  \n",
       "4    2     NaN  2018   750.0  "
      ]
     },
     "execution_count": 3,
     "metadata": {},
     "output_type": "execute_result"
    }
   ],
   "source": [
    "data.head()"
   ]
  },
  {
   "cell_type": "code",
   "execution_count": 4,
   "metadata": {},
   "outputs": [
    {
     "name": "stdout",
     "output_type": "stream",
     "text": [
      "<class 'pandas.core.frame.DataFrame'>\n",
      "RangeIndex: 6178 entries, 0 to 6177\n",
      "Data columns (total 10 columns):\n",
      " #   Column     Non-Null Count  Dtype  \n",
      "---  ------     --------------  -----  \n",
      " 0   Route      6178 non-null   object \n",
      " 1   TruckType  6178 non-null   object \n",
      " 2   duration   6178 non-null   float64\n",
      " 3   distance   6178 non-null   float64\n",
      " 4   weekday    6178 non-null   int64  \n",
      " 5   month      6178 non-null   int64  \n",
      " 6   day        6178 non-null   int64  \n",
      " 7   diesel     5378 non-null   float64\n",
      " 8   year       6178 non-null   int64  \n",
      " 9   Rate       6178 non-null   float64\n",
      "dtypes: float64(4), int64(4), object(2)\n",
      "memory usage: 482.8+ KB\n"
     ]
    }
   ],
   "source": [
    "data.info()"
   ]
  },
  {
   "cell_type": "code",
   "execution_count": 5,
   "metadata": {},
   "outputs": [
    {
     "data": {
      "text/plain": [
       "Route          0\n",
       "TruckType      0\n",
       "duration       0\n",
       "distance       0\n",
       "weekday        0\n",
       "month          0\n",
       "day            0\n",
       "diesel       800\n",
       "year           0\n",
       "Rate           0\n",
       "dtype: int64"
      ]
     },
     "execution_count": 5,
     "metadata": {},
     "output_type": "execute_result"
    }
   ],
   "source": [
    "data.isnull().sum()"
   ]
  },
  {
   "cell_type": "markdown",
   "metadata": {},
   "source": [
    "# Handling Missing Values"
   ]
  },
  {
   "cell_type": "code",
   "execution_count": 6,
   "metadata": {},
   "outputs": [],
   "source": [
    "df=data.interpolate()"
   ]
  },
  {
   "cell_type": "code",
   "execution_count": 7,
   "metadata": {},
   "outputs": [
    {
     "data": {
      "text/html": [
       "<div>\n",
       "<style scoped>\n",
       "    .dataframe tbody tr th:only-of-type {\n",
       "        vertical-align: middle;\n",
       "    }\n",
       "\n",
       "    .dataframe tbody tr th {\n",
       "        vertical-align: top;\n",
       "    }\n",
       "\n",
       "    .dataframe thead th {\n",
       "        text-align: right;\n",
       "    }\n",
       "</style>\n",
       "<table border=\"1\" class=\"dataframe\">\n",
       "  <thead>\n",
       "    <tr style=\"text-align: right;\">\n",
       "      <th></th>\n",
       "      <th>Route</th>\n",
       "      <th>TruckType</th>\n",
       "      <th>duration</th>\n",
       "      <th>distance</th>\n",
       "      <th>weekday</th>\n",
       "      <th>month</th>\n",
       "      <th>day</th>\n",
       "      <th>diesel</th>\n",
       "      <th>year</th>\n",
       "      <th>Rate</th>\n",
       "    </tr>\n",
       "  </thead>\n",
       "  <tbody>\n",
       "    <tr>\n",
       "      <th>0</th>\n",
       "      <td>Cross Border</td>\n",
       "      <td>15 M Flatbed Trailer</td>\n",
       "      <td>82054.9</td>\n",
       "      <td>1801.5</td>\n",
       "      <td>0</td>\n",
       "      <td>10</td>\n",
       "      <td>1</td>\n",
       "      <td>NaN</td>\n",
       "      <td>2018</td>\n",
       "      <td>3500.0</td>\n",
       "    </tr>\n",
       "    <tr>\n",
       "      <th>1</th>\n",
       "      <td>Local</td>\n",
       "      <td>15 M Flatbed Trailer</td>\n",
       "      <td>7307.8</td>\n",
       "      <td>127.3</td>\n",
       "      <td>0</td>\n",
       "      <td>10</td>\n",
       "      <td>1</td>\n",
       "      <td>NaN</td>\n",
       "      <td>2018</td>\n",
       "      <td>850.0</td>\n",
       "    </tr>\n",
       "    <tr>\n",
       "      <th>2</th>\n",
       "      <td>Cross Border</td>\n",
       "      <td>15 M Flatbed Trailer</td>\n",
       "      <td>28168.8</td>\n",
       "      <td>604.0</td>\n",
       "      <td>0</td>\n",
       "      <td>10</td>\n",
       "      <td>1</td>\n",
       "      <td>NaN</td>\n",
       "      <td>2018</td>\n",
       "      <td>2300.0</td>\n",
       "    </tr>\n",
       "    <tr>\n",
       "      <th>3</th>\n",
       "      <td>Local</td>\n",
       "      <td>15 M Flatbed Trailer</td>\n",
       "      <td>7307.8</td>\n",
       "      <td>127.3</td>\n",
       "      <td>1</td>\n",
       "      <td>10</td>\n",
       "      <td>2</td>\n",
       "      <td>NaN</td>\n",
       "      <td>2018</td>\n",
       "      <td>750.0</td>\n",
       "    </tr>\n",
       "    <tr>\n",
       "      <th>4</th>\n",
       "      <td>Local</td>\n",
       "      <td>15 M Flatbed Trailer</td>\n",
       "      <td>7307.8</td>\n",
       "      <td>127.3</td>\n",
       "      <td>1</td>\n",
       "      <td>10</td>\n",
       "      <td>2</td>\n",
       "      <td>NaN</td>\n",
       "      <td>2018</td>\n",
       "      <td>750.0</td>\n",
       "    </tr>\n",
       "  </tbody>\n",
       "</table>\n",
       "</div>"
      ],
      "text/plain": [
       "          Route             TruckType  duration  distance  weekday  month  \\\n",
       "0  Cross Border  15 M Flatbed Trailer   82054.9    1801.5        0     10   \n",
       "1         Local  15 M Flatbed Trailer    7307.8     127.3        0     10   \n",
       "2  Cross Border  15 M Flatbed Trailer   28168.8     604.0        0     10   \n",
       "3         Local  15 M Flatbed Trailer    7307.8     127.3        1     10   \n",
       "4         Local  15 M Flatbed Trailer    7307.8     127.3        1     10   \n",
       "\n",
       "   day  diesel  year    Rate  \n",
       "0    1     NaN  2018  3500.0  \n",
       "1    1     NaN  2018   850.0  \n",
       "2    1     NaN  2018  2300.0  \n",
       "3    2     NaN  2018   750.0  \n",
       "4    2     NaN  2018   750.0  "
      ]
     },
     "execution_count": 7,
     "metadata": {},
     "output_type": "execute_result"
    }
   ],
   "source": [
    "df.head()"
   ]
  },
  {
   "cell_type": "code",
   "execution_count": 8,
   "metadata": {},
   "outputs": [
    {
     "name": "stdout",
     "output_type": "stream",
     "text": [
      "<class 'pandas.core.frame.DataFrame'>\n",
      "RangeIndex: 6178 entries, 0 to 6177\n",
      "Data columns (total 10 columns):\n",
      " #   Column     Non-Null Count  Dtype  \n",
      "---  ------     --------------  -----  \n",
      " 0   Route      6178 non-null   object \n",
      " 1   TruckType  6178 non-null   object \n",
      " 2   duration   6178 non-null   float64\n",
      " 3   distance   6178 non-null   float64\n",
      " 4   weekday    6178 non-null   int64  \n",
      " 5   month      6178 non-null   int64  \n",
      " 6   day        6178 non-null   int64  \n",
      " 7   diesel     5712 non-null   float64\n",
      " 8   year       6178 non-null   int64  \n",
      " 9   Rate       6178 non-null   float64\n",
      "dtypes: float64(4), int64(4), object(2)\n",
      "memory usage: 482.8+ KB\n"
     ]
    }
   ],
   "source": [
    "df.info()"
   ]
  },
  {
   "cell_type": "code",
   "execution_count": 9,
   "metadata": {},
   "outputs": [],
   "source": [
    "fdf=df.fillna(method='bfill')"
   ]
  },
  {
   "cell_type": "code",
   "execution_count": 10,
   "metadata": {},
   "outputs": [
    {
     "data": {
      "text/html": [
       "<div>\n",
       "<style scoped>\n",
       "    .dataframe tbody tr th:only-of-type {\n",
       "        vertical-align: middle;\n",
       "    }\n",
       "\n",
       "    .dataframe tbody tr th {\n",
       "        vertical-align: top;\n",
       "    }\n",
       "\n",
       "    .dataframe thead th {\n",
       "        text-align: right;\n",
       "    }\n",
       "</style>\n",
       "<table border=\"1\" class=\"dataframe\">\n",
       "  <thead>\n",
       "    <tr style=\"text-align: right;\">\n",
       "      <th></th>\n",
       "      <th>Route</th>\n",
       "      <th>TruckType</th>\n",
       "      <th>duration</th>\n",
       "      <th>distance</th>\n",
       "      <th>weekday</th>\n",
       "      <th>month</th>\n",
       "      <th>day</th>\n",
       "      <th>diesel</th>\n",
       "      <th>year</th>\n",
       "      <th>Rate</th>\n",
       "    </tr>\n",
       "  </thead>\n",
       "  <tbody>\n",
       "    <tr>\n",
       "      <th>0</th>\n",
       "      <td>Cross Border</td>\n",
       "      <td>15 M Flatbed Trailer</td>\n",
       "      <td>82054.9</td>\n",
       "      <td>1801.5</td>\n",
       "      <td>0</td>\n",
       "      <td>10</td>\n",
       "      <td>1</td>\n",
       "      <td>2.3</td>\n",
       "      <td>2018</td>\n",
       "      <td>3500.0</td>\n",
       "    </tr>\n",
       "    <tr>\n",
       "      <th>1</th>\n",
       "      <td>Local</td>\n",
       "      <td>15 M Flatbed Trailer</td>\n",
       "      <td>7307.8</td>\n",
       "      <td>127.3</td>\n",
       "      <td>0</td>\n",
       "      <td>10</td>\n",
       "      <td>1</td>\n",
       "      <td>2.3</td>\n",
       "      <td>2018</td>\n",
       "      <td>850.0</td>\n",
       "    </tr>\n",
       "    <tr>\n",
       "      <th>2</th>\n",
       "      <td>Cross Border</td>\n",
       "      <td>15 M Flatbed Trailer</td>\n",
       "      <td>28168.8</td>\n",
       "      <td>604.0</td>\n",
       "      <td>0</td>\n",
       "      <td>10</td>\n",
       "      <td>1</td>\n",
       "      <td>2.3</td>\n",
       "      <td>2018</td>\n",
       "      <td>2300.0</td>\n",
       "    </tr>\n",
       "    <tr>\n",
       "      <th>3</th>\n",
       "      <td>Local</td>\n",
       "      <td>15 M Flatbed Trailer</td>\n",
       "      <td>7307.8</td>\n",
       "      <td>127.3</td>\n",
       "      <td>1</td>\n",
       "      <td>10</td>\n",
       "      <td>2</td>\n",
       "      <td>2.3</td>\n",
       "      <td>2018</td>\n",
       "      <td>750.0</td>\n",
       "    </tr>\n",
       "    <tr>\n",
       "      <th>4</th>\n",
       "      <td>Local</td>\n",
       "      <td>15 M Flatbed Trailer</td>\n",
       "      <td>7307.8</td>\n",
       "      <td>127.3</td>\n",
       "      <td>1</td>\n",
       "      <td>10</td>\n",
       "      <td>2</td>\n",
       "      <td>2.3</td>\n",
       "      <td>2018</td>\n",
       "      <td>750.0</td>\n",
       "    </tr>\n",
       "  </tbody>\n",
       "</table>\n",
       "</div>"
      ],
      "text/plain": [
       "          Route             TruckType  duration  distance  weekday  month  \\\n",
       "0  Cross Border  15 M Flatbed Trailer   82054.9    1801.5        0     10   \n",
       "1         Local  15 M Flatbed Trailer    7307.8     127.3        0     10   \n",
       "2  Cross Border  15 M Flatbed Trailer   28168.8     604.0        0     10   \n",
       "3         Local  15 M Flatbed Trailer    7307.8     127.3        1     10   \n",
       "4         Local  15 M Flatbed Trailer    7307.8     127.3        1     10   \n",
       "\n",
       "   day  diesel  year    Rate  \n",
       "0    1     2.3  2018  3500.0  \n",
       "1    1     2.3  2018   850.0  \n",
       "2    1     2.3  2018  2300.0  \n",
       "3    2     2.3  2018   750.0  \n",
       "4    2     2.3  2018   750.0  "
      ]
     },
     "execution_count": 10,
     "metadata": {},
     "output_type": "execute_result"
    }
   ],
   "source": [
    "fdf.head()"
   ]
  },
  {
   "cell_type": "code",
   "execution_count": 11,
   "metadata": {},
   "outputs": [
    {
     "data": {
      "text/plain": [
       "Route        0\n",
       "TruckType    0\n",
       "duration     0\n",
       "distance     0\n",
       "weekday      0\n",
       "month        0\n",
       "day          0\n",
       "diesel       0\n",
       "year         0\n",
       "Rate         0\n",
       "dtype: int64"
      ]
     },
     "execution_count": 11,
     "metadata": {},
     "output_type": "execute_result"
    }
   ],
   "source": [
    "fdf.isnull().sum()"
   ]
  },
  {
   "cell_type": "code",
   "execution_count": 12,
   "metadata": {},
   "outputs": [
    {
     "name": "stdout",
     "output_type": "stream",
     "text": [
      "<class 'pandas.core.frame.DataFrame'>\n",
      "RangeIndex: 6178 entries, 0 to 6177\n",
      "Data columns (total 10 columns):\n",
      " #   Column     Non-Null Count  Dtype  \n",
      "---  ------     --------------  -----  \n",
      " 0   Route      6178 non-null   object \n",
      " 1   TruckType  6178 non-null   object \n",
      " 2   duration   6178 non-null   float64\n",
      " 3   distance   6178 non-null   float64\n",
      " 4   weekday    6178 non-null   int64  \n",
      " 5   month      6178 non-null   int64  \n",
      " 6   day        6178 non-null   int64  \n",
      " 7   diesel     6178 non-null   float64\n",
      " 8   year       6178 non-null   int64  \n",
      " 9   Rate       6178 non-null   float64\n",
      "dtypes: float64(4), int64(4), object(2)\n",
      "memory usage: 482.8+ KB\n"
     ]
    }
   ],
   "source": [
    "fdf.info()"
   ]
  },
  {
   "cell_type": "markdown",
   "metadata": {},
   "source": [
    "# Handling Categorical Variables"
   ]
  },
  {
   "cell_type": "code",
   "execution_count": 13,
   "metadata": {},
   "outputs": [
    {
     "data": {
      "text/html": [
       "<div>\n",
       "<style scoped>\n",
       "    .dataframe tbody tr th:only-of-type {\n",
       "        vertical-align: middle;\n",
       "    }\n",
       "\n",
       "    .dataframe tbody tr th {\n",
       "        vertical-align: top;\n",
       "    }\n",
       "\n",
       "    .dataframe thead th {\n",
       "        text-align: right;\n",
       "    }\n",
       "</style>\n",
       "<table border=\"1\" class=\"dataframe\">\n",
       "  <thead>\n",
       "    <tr style=\"text-align: right;\">\n",
       "      <th></th>\n",
       "      <th>Cross Border</th>\n",
       "      <th>Local</th>\n",
       "    </tr>\n",
       "  </thead>\n",
       "  <tbody>\n",
       "    <tr>\n",
       "      <th>0</th>\n",
       "      <td>1</td>\n",
       "      <td>0</td>\n",
       "    </tr>\n",
       "    <tr>\n",
       "      <th>1</th>\n",
       "      <td>0</td>\n",
       "      <td>1</td>\n",
       "    </tr>\n",
       "    <tr>\n",
       "      <th>2</th>\n",
       "      <td>1</td>\n",
       "      <td>0</td>\n",
       "    </tr>\n",
       "    <tr>\n",
       "      <th>3</th>\n",
       "      <td>0</td>\n",
       "      <td>1</td>\n",
       "    </tr>\n",
       "    <tr>\n",
       "      <th>4</th>\n",
       "      <td>0</td>\n",
       "      <td>1</td>\n",
       "    </tr>\n",
       "    <tr>\n",
       "      <th>...</th>\n",
       "      <td>...</td>\n",
       "      <td>...</td>\n",
       "    </tr>\n",
       "    <tr>\n",
       "      <th>6173</th>\n",
       "      <td>1</td>\n",
       "      <td>0</td>\n",
       "    </tr>\n",
       "    <tr>\n",
       "      <th>6174</th>\n",
       "      <td>1</td>\n",
       "      <td>0</td>\n",
       "    </tr>\n",
       "    <tr>\n",
       "      <th>6175</th>\n",
       "      <td>1</td>\n",
       "      <td>0</td>\n",
       "    </tr>\n",
       "    <tr>\n",
       "      <th>6176</th>\n",
       "      <td>1</td>\n",
       "      <td>0</td>\n",
       "    </tr>\n",
       "    <tr>\n",
       "      <th>6177</th>\n",
       "      <td>1</td>\n",
       "      <td>0</td>\n",
       "    </tr>\n",
       "  </tbody>\n",
       "</table>\n",
       "<p>6178 rows × 2 columns</p>\n",
       "</div>"
      ],
      "text/plain": [
       "      Cross Border  Local\n",
       "0                1      0\n",
       "1                0      1\n",
       "2                1      0\n",
       "3                0      1\n",
       "4                0      1\n",
       "...            ...    ...\n",
       "6173             1      0\n",
       "6174             1      0\n",
       "6175             1      0\n",
       "6176             1      0\n",
       "6177             1      0\n",
       "\n",
       "[6178 rows x 2 columns]"
      ]
     },
     "execution_count": 13,
     "metadata": {},
     "output_type": "execute_result"
    }
   ],
   "source": [
    "dummy1=pd.get_dummies(fdf.Route)\n",
    "dummy1"
   ]
  },
  {
   "cell_type": "code",
   "execution_count": 14,
   "metadata": {},
   "outputs": [
    {
     "data": {
      "text/html": [
       "<div>\n",
       "<style scoped>\n",
       "    .dataframe tbody tr th:only-of-type {\n",
       "        vertical-align: middle;\n",
       "    }\n",
       "\n",
       "    .dataframe tbody tr th {\n",
       "        vertical-align: top;\n",
       "    }\n",
       "\n",
       "    .dataframe thead th {\n",
       "        text-align: right;\n",
       "    }\n",
       "</style>\n",
       "<table border=\"1\" class=\"dataframe\">\n",
       "  <thead>\n",
       "    <tr style=\"text-align: right;\">\n",
       "      <th></th>\n",
       "      <th>13.5 M Box Trailer</th>\n",
       "      <th>13.5 M Flatbed Trailer</th>\n",
       "      <th>15 M Box Trailer</th>\n",
       "      <th>15 M Flatbed Trailer</th>\n",
       "    </tr>\n",
       "  </thead>\n",
       "  <tbody>\n",
       "    <tr>\n",
       "      <th>0</th>\n",
       "      <td>0</td>\n",
       "      <td>0</td>\n",
       "      <td>0</td>\n",
       "      <td>1</td>\n",
       "    </tr>\n",
       "    <tr>\n",
       "      <th>1</th>\n",
       "      <td>0</td>\n",
       "      <td>0</td>\n",
       "      <td>0</td>\n",
       "      <td>1</td>\n",
       "    </tr>\n",
       "    <tr>\n",
       "      <th>2</th>\n",
       "      <td>0</td>\n",
       "      <td>0</td>\n",
       "      <td>0</td>\n",
       "      <td>1</td>\n",
       "    </tr>\n",
       "    <tr>\n",
       "      <th>3</th>\n",
       "      <td>0</td>\n",
       "      <td>0</td>\n",
       "      <td>0</td>\n",
       "      <td>1</td>\n",
       "    </tr>\n",
       "    <tr>\n",
       "      <th>4</th>\n",
       "      <td>0</td>\n",
       "      <td>0</td>\n",
       "      <td>0</td>\n",
       "      <td>1</td>\n",
       "    </tr>\n",
       "    <tr>\n",
       "      <th>...</th>\n",
       "      <td>...</td>\n",
       "      <td>...</td>\n",
       "      <td>...</td>\n",
       "      <td>...</td>\n",
       "    </tr>\n",
       "    <tr>\n",
       "      <th>6173</th>\n",
       "      <td>1</td>\n",
       "      <td>0</td>\n",
       "      <td>0</td>\n",
       "      <td>0</td>\n",
       "    </tr>\n",
       "    <tr>\n",
       "      <th>6174</th>\n",
       "      <td>0</td>\n",
       "      <td>1</td>\n",
       "      <td>0</td>\n",
       "      <td>0</td>\n",
       "    </tr>\n",
       "    <tr>\n",
       "      <th>6175</th>\n",
       "      <td>0</td>\n",
       "      <td>1</td>\n",
       "      <td>0</td>\n",
       "      <td>0</td>\n",
       "    </tr>\n",
       "    <tr>\n",
       "      <th>6176</th>\n",
       "      <td>0</td>\n",
       "      <td>1</td>\n",
       "      <td>0</td>\n",
       "      <td>0</td>\n",
       "    </tr>\n",
       "    <tr>\n",
       "      <th>6177</th>\n",
       "      <td>0</td>\n",
       "      <td>1</td>\n",
       "      <td>0</td>\n",
       "      <td>0</td>\n",
       "    </tr>\n",
       "  </tbody>\n",
       "</table>\n",
       "<p>6178 rows × 4 columns</p>\n",
       "</div>"
      ],
      "text/plain": [
       "      13.5 M Box Trailer  13.5 M Flatbed Trailer  15 M Box Trailer  \\\n",
       "0                      0                       0                 0   \n",
       "1                      0                       0                 0   \n",
       "2                      0                       0                 0   \n",
       "3                      0                       0                 0   \n",
       "4                      0                       0                 0   \n",
       "...                  ...                     ...               ...   \n",
       "6173                   1                       0                 0   \n",
       "6174                   0                       1                 0   \n",
       "6175                   0                       1                 0   \n",
       "6176                   0                       1                 0   \n",
       "6177                   0                       1                 0   \n",
       "\n",
       "      15 M Flatbed Trailer  \n",
       "0                        1  \n",
       "1                        1  \n",
       "2                        1  \n",
       "3                        1  \n",
       "4                        1  \n",
       "...                    ...  \n",
       "6173                     0  \n",
       "6174                     0  \n",
       "6175                     0  \n",
       "6176                     0  \n",
       "6177                     0  \n",
       "\n",
       "[6178 rows x 4 columns]"
      ]
     },
     "execution_count": 14,
     "metadata": {},
     "output_type": "execute_result"
    }
   ],
   "source": [
    "dummy2=pd.get_dummies(fdf.TruckType)\n",
    "dummy2"
   ]
  },
  {
   "cell_type": "code",
   "execution_count": 15,
   "metadata": {},
   "outputs": [
    {
     "data": {
      "text/html": [
       "<div>\n",
       "<style scoped>\n",
       "    .dataframe tbody tr th:only-of-type {\n",
       "        vertical-align: middle;\n",
       "    }\n",
       "\n",
       "    .dataframe tbody tr th {\n",
       "        vertical-align: top;\n",
       "    }\n",
       "\n",
       "    .dataframe thead th {\n",
       "        text-align: right;\n",
       "    }\n",
       "</style>\n",
       "<table border=\"1\" class=\"dataframe\">\n",
       "  <thead>\n",
       "    <tr style=\"text-align: right;\">\n",
       "      <th></th>\n",
       "      <th>Route</th>\n",
       "      <th>TruckType</th>\n",
       "      <th>duration</th>\n",
       "      <th>distance</th>\n",
       "      <th>weekday</th>\n",
       "      <th>month</th>\n",
       "      <th>day</th>\n",
       "      <th>diesel</th>\n",
       "      <th>year</th>\n",
       "      <th>Rate</th>\n",
       "      <th>Cross Border</th>\n",
       "      <th>Local</th>\n",
       "      <th>13.5 M Box Trailer</th>\n",
       "      <th>13.5 M Flatbed Trailer</th>\n",
       "      <th>15 M Box Trailer</th>\n",
       "      <th>15 M Flatbed Trailer</th>\n",
       "    </tr>\n",
       "  </thead>\n",
       "  <tbody>\n",
       "    <tr>\n",
       "      <th>0</th>\n",
       "      <td>Cross Border</td>\n",
       "      <td>15 M Flatbed Trailer</td>\n",
       "      <td>82054.9</td>\n",
       "      <td>1801.5</td>\n",
       "      <td>0</td>\n",
       "      <td>10</td>\n",
       "      <td>1</td>\n",
       "      <td>2.30</td>\n",
       "      <td>2018</td>\n",
       "      <td>3500.0</td>\n",
       "      <td>1</td>\n",
       "      <td>0</td>\n",
       "      <td>0</td>\n",
       "      <td>0</td>\n",
       "      <td>0</td>\n",
       "      <td>1</td>\n",
       "    </tr>\n",
       "    <tr>\n",
       "      <th>1</th>\n",
       "      <td>Local</td>\n",
       "      <td>15 M Flatbed Trailer</td>\n",
       "      <td>7307.8</td>\n",
       "      <td>127.3</td>\n",
       "      <td>0</td>\n",
       "      <td>10</td>\n",
       "      <td>1</td>\n",
       "      <td>2.30</td>\n",
       "      <td>2018</td>\n",
       "      <td>850.0</td>\n",
       "      <td>0</td>\n",
       "      <td>1</td>\n",
       "      <td>0</td>\n",
       "      <td>0</td>\n",
       "      <td>0</td>\n",
       "      <td>1</td>\n",
       "    </tr>\n",
       "    <tr>\n",
       "      <th>2</th>\n",
       "      <td>Cross Border</td>\n",
       "      <td>15 M Flatbed Trailer</td>\n",
       "      <td>28168.8</td>\n",
       "      <td>604.0</td>\n",
       "      <td>0</td>\n",
       "      <td>10</td>\n",
       "      <td>1</td>\n",
       "      <td>2.30</td>\n",
       "      <td>2018</td>\n",
       "      <td>2300.0</td>\n",
       "      <td>1</td>\n",
       "      <td>0</td>\n",
       "      <td>0</td>\n",
       "      <td>0</td>\n",
       "      <td>0</td>\n",
       "      <td>1</td>\n",
       "    </tr>\n",
       "    <tr>\n",
       "      <th>3</th>\n",
       "      <td>Local</td>\n",
       "      <td>15 M Flatbed Trailer</td>\n",
       "      <td>7307.8</td>\n",
       "      <td>127.3</td>\n",
       "      <td>1</td>\n",
       "      <td>10</td>\n",
       "      <td>2</td>\n",
       "      <td>2.30</td>\n",
       "      <td>2018</td>\n",
       "      <td>750.0</td>\n",
       "      <td>0</td>\n",
       "      <td>1</td>\n",
       "      <td>0</td>\n",
       "      <td>0</td>\n",
       "      <td>0</td>\n",
       "      <td>1</td>\n",
       "    </tr>\n",
       "    <tr>\n",
       "      <th>4</th>\n",
       "      <td>Local</td>\n",
       "      <td>15 M Flatbed Trailer</td>\n",
       "      <td>7307.8</td>\n",
       "      <td>127.3</td>\n",
       "      <td>1</td>\n",
       "      <td>10</td>\n",
       "      <td>2</td>\n",
       "      <td>2.30</td>\n",
       "      <td>2018</td>\n",
       "      <td>750.0</td>\n",
       "      <td>0</td>\n",
       "      <td>1</td>\n",
       "      <td>0</td>\n",
       "      <td>0</td>\n",
       "      <td>0</td>\n",
       "      <td>1</td>\n",
       "    </tr>\n",
       "    <tr>\n",
       "      <th>...</th>\n",
       "      <td>...</td>\n",
       "      <td>...</td>\n",
       "      <td>...</td>\n",
       "      <td>...</td>\n",
       "      <td>...</td>\n",
       "      <td>...</td>\n",
       "      <td>...</td>\n",
       "      <td>...</td>\n",
       "      <td>...</td>\n",
       "      <td>...</td>\n",
       "      <td>...</td>\n",
       "      <td>...</td>\n",
       "      <td>...</td>\n",
       "      <td>...</td>\n",
       "      <td>...</td>\n",
       "      <td>...</td>\n",
       "    </tr>\n",
       "    <tr>\n",
       "      <th>6173</th>\n",
       "      <td>Cross Border</td>\n",
       "      <td>13.5 M Box Trailer</td>\n",
       "      <td>53345.4</td>\n",
       "      <td>1159.0</td>\n",
       "      <td>1</td>\n",
       "      <td>12</td>\n",
       "      <td>31</td>\n",
       "      <td>2.37</td>\n",
       "      <td>2019</td>\n",
       "      <td>4900.0</td>\n",
       "      <td>1</td>\n",
       "      <td>0</td>\n",
       "      <td>1</td>\n",
       "      <td>0</td>\n",
       "      <td>0</td>\n",
       "      <td>0</td>\n",
       "    </tr>\n",
       "    <tr>\n",
       "      <th>6174</th>\n",
       "      <td>Cross Border</td>\n",
       "      <td>13.5 M Flatbed Trailer</td>\n",
       "      <td>23867.3</td>\n",
       "      <td>501.7</td>\n",
       "      <td>1</td>\n",
       "      <td>12</td>\n",
       "      <td>31</td>\n",
       "      <td>2.37</td>\n",
       "      <td>2019</td>\n",
       "      <td>2150.0</td>\n",
       "      <td>1</td>\n",
       "      <td>0</td>\n",
       "      <td>0</td>\n",
       "      <td>1</td>\n",
       "      <td>0</td>\n",
       "      <td>0</td>\n",
       "    </tr>\n",
       "    <tr>\n",
       "      <th>6175</th>\n",
       "      <td>Cross Border</td>\n",
       "      <td>13.5 M Flatbed Trailer</td>\n",
       "      <td>23867.3</td>\n",
       "      <td>501.7</td>\n",
       "      <td>1</td>\n",
       "      <td>12</td>\n",
       "      <td>31</td>\n",
       "      <td>2.37</td>\n",
       "      <td>2019</td>\n",
       "      <td>2150.0</td>\n",
       "      <td>1</td>\n",
       "      <td>0</td>\n",
       "      <td>0</td>\n",
       "      <td>1</td>\n",
       "      <td>0</td>\n",
       "      <td>0</td>\n",
       "    </tr>\n",
       "    <tr>\n",
       "      <th>6176</th>\n",
       "      <td>Cross Border</td>\n",
       "      <td>13.5 M Flatbed Trailer</td>\n",
       "      <td>23867.3</td>\n",
       "      <td>501.7</td>\n",
       "      <td>1</td>\n",
       "      <td>12</td>\n",
       "      <td>31</td>\n",
       "      <td>2.37</td>\n",
       "      <td>2019</td>\n",
       "      <td>2150.0</td>\n",
       "      <td>1</td>\n",
       "      <td>0</td>\n",
       "      <td>0</td>\n",
       "      <td>1</td>\n",
       "      <td>0</td>\n",
       "      <td>0</td>\n",
       "    </tr>\n",
       "    <tr>\n",
       "      <th>6177</th>\n",
       "      <td>Cross Border</td>\n",
       "      <td>13.5 M Flatbed Trailer</td>\n",
       "      <td>23867.3</td>\n",
       "      <td>501.7</td>\n",
       "      <td>1</td>\n",
       "      <td>12</td>\n",
       "      <td>31</td>\n",
       "      <td>2.37</td>\n",
       "      <td>2019</td>\n",
       "      <td>2150.0</td>\n",
       "      <td>1</td>\n",
       "      <td>0</td>\n",
       "      <td>0</td>\n",
       "      <td>1</td>\n",
       "      <td>0</td>\n",
       "      <td>0</td>\n",
       "    </tr>\n",
       "  </tbody>\n",
       "</table>\n",
       "<p>6178 rows × 16 columns</p>\n",
       "</div>"
      ],
      "text/plain": [
       "             Route               TruckType  duration  distance  weekday  \\\n",
       "0     Cross Border    15 M Flatbed Trailer   82054.9    1801.5        0   \n",
       "1            Local    15 M Flatbed Trailer    7307.8     127.3        0   \n",
       "2     Cross Border    15 M Flatbed Trailer   28168.8     604.0        0   \n",
       "3            Local    15 M Flatbed Trailer    7307.8     127.3        1   \n",
       "4            Local    15 M Flatbed Trailer    7307.8     127.3        1   \n",
       "...            ...                     ...       ...       ...      ...   \n",
       "6173  Cross Border      13.5 M Box Trailer   53345.4    1159.0        1   \n",
       "6174  Cross Border  13.5 M Flatbed Trailer   23867.3     501.7        1   \n",
       "6175  Cross Border  13.5 M Flatbed Trailer   23867.3     501.7        1   \n",
       "6176  Cross Border  13.5 M Flatbed Trailer   23867.3     501.7        1   \n",
       "6177  Cross Border  13.5 M Flatbed Trailer   23867.3     501.7        1   \n",
       "\n",
       "      month  day  diesel  year    Rate  Cross Border  Local  \\\n",
       "0        10    1    2.30  2018  3500.0             1      0   \n",
       "1        10    1    2.30  2018   850.0             0      1   \n",
       "2        10    1    2.30  2018  2300.0             1      0   \n",
       "3        10    2    2.30  2018   750.0             0      1   \n",
       "4        10    2    2.30  2018   750.0             0      1   \n",
       "...     ...  ...     ...   ...     ...           ...    ...   \n",
       "6173     12   31    2.37  2019  4900.0             1      0   \n",
       "6174     12   31    2.37  2019  2150.0             1      0   \n",
       "6175     12   31    2.37  2019  2150.0             1      0   \n",
       "6176     12   31    2.37  2019  2150.0             1      0   \n",
       "6177     12   31    2.37  2019  2150.0             1      0   \n",
       "\n",
       "      13.5 M Box Trailer  13.5 M Flatbed Trailer  15 M Box Trailer  \\\n",
       "0                      0                       0                 0   \n",
       "1                      0                       0                 0   \n",
       "2                      0                       0                 0   \n",
       "3                      0                       0                 0   \n",
       "4                      0                       0                 0   \n",
       "...                  ...                     ...               ...   \n",
       "6173                   1                       0                 0   \n",
       "6174                   0                       1                 0   \n",
       "6175                   0                       1                 0   \n",
       "6176                   0                       1                 0   \n",
       "6177                   0                       1                 0   \n",
       "\n",
       "      15 M Flatbed Trailer  \n",
       "0                        1  \n",
       "1                        1  \n",
       "2                        1  \n",
       "3                        1  \n",
       "4                        1  \n",
       "...                    ...  \n",
       "6173                     0  \n",
       "6174                     0  \n",
       "6175                     0  \n",
       "6176                     0  \n",
       "6177                     0  \n",
       "\n",
       "[6178 rows x 16 columns]"
      ]
     },
     "execution_count": 15,
     "metadata": {},
     "output_type": "execute_result"
    }
   ],
   "source": [
    "merged=pd.concat([fdf,dummy1,dummy2],axis='columns')\n",
    "merged"
   ]
  },
  {
   "cell_type": "code",
   "execution_count": 16,
   "metadata": {},
   "outputs": [
    {
     "data": {
      "text/html": [
       "<div>\n",
       "<style scoped>\n",
       "    .dataframe tbody tr th:only-of-type {\n",
       "        vertical-align: middle;\n",
       "    }\n",
       "\n",
       "    .dataframe tbody tr th {\n",
       "        vertical-align: top;\n",
       "    }\n",
       "\n",
       "    .dataframe thead th {\n",
       "        text-align: right;\n",
       "    }\n",
       "</style>\n",
       "<table border=\"1\" class=\"dataframe\">\n",
       "  <thead>\n",
       "    <tr style=\"text-align: right;\">\n",
       "      <th></th>\n",
       "      <th>duration</th>\n",
       "      <th>distance</th>\n",
       "      <th>weekday</th>\n",
       "      <th>month</th>\n",
       "      <th>day</th>\n",
       "      <th>diesel</th>\n",
       "      <th>year</th>\n",
       "      <th>Rate</th>\n",
       "      <th>Cross Border</th>\n",
       "      <th>13.5 M Flatbed Trailer</th>\n",
       "      <th>15 M Box Trailer</th>\n",
       "      <th>15 M Flatbed Trailer</th>\n",
       "    </tr>\n",
       "  </thead>\n",
       "  <tbody>\n",
       "    <tr>\n",
       "      <th>0</th>\n",
       "      <td>82054.9</td>\n",
       "      <td>1801.5</td>\n",
       "      <td>0</td>\n",
       "      <td>10</td>\n",
       "      <td>1</td>\n",
       "      <td>2.30</td>\n",
       "      <td>2018</td>\n",
       "      <td>3500.0</td>\n",
       "      <td>1</td>\n",
       "      <td>0</td>\n",
       "      <td>0</td>\n",
       "      <td>1</td>\n",
       "    </tr>\n",
       "    <tr>\n",
       "      <th>1</th>\n",
       "      <td>7307.8</td>\n",
       "      <td>127.3</td>\n",
       "      <td>0</td>\n",
       "      <td>10</td>\n",
       "      <td>1</td>\n",
       "      <td>2.30</td>\n",
       "      <td>2018</td>\n",
       "      <td>850.0</td>\n",
       "      <td>0</td>\n",
       "      <td>0</td>\n",
       "      <td>0</td>\n",
       "      <td>1</td>\n",
       "    </tr>\n",
       "    <tr>\n",
       "      <th>2</th>\n",
       "      <td>28168.8</td>\n",
       "      <td>604.0</td>\n",
       "      <td>0</td>\n",
       "      <td>10</td>\n",
       "      <td>1</td>\n",
       "      <td>2.30</td>\n",
       "      <td>2018</td>\n",
       "      <td>2300.0</td>\n",
       "      <td>1</td>\n",
       "      <td>0</td>\n",
       "      <td>0</td>\n",
       "      <td>1</td>\n",
       "    </tr>\n",
       "    <tr>\n",
       "      <th>3</th>\n",
       "      <td>7307.8</td>\n",
       "      <td>127.3</td>\n",
       "      <td>1</td>\n",
       "      <td>10</td>\n",
       "      <td>2</td>\n",
       "      <td>2.30</td>\n",
       "      <td>2018</td>\n",
       "      <td>750.0</td>\n",
       "      <td>0</td>\n",
       "      <td>0</td>\n",
       "      <td>0</td>\n",
       "      <td>1</td>\n",
       "    </tr>\n",
       "    <tr>\n",
       "      <th>4</th>\n",
       "      <td>7307.8</td>\n",
       "      <td>127.3</td>\n",
       "      <td>1</td>\n",
       "      <td>10</td>\n",
       "      <td>2</td>\n",
       "      <td>2.30</td>\n",
       "      <td>2018</td>\n",
       "      <td>750.0</td>\n",
       "      <td>0</td>\n",
       "      <td>0</td>\n",
       "      <td>0</td>\n",
       "      <td>1</td>\n",
       "    </tr>\n",
       "    <tr>\n",
       "      <th>...</th>\n",
       "      <td>...</td>\n",
       "      <td>...</td>\n",
       "      <td>...</td>\n",
       "      <td>...</td>\n",
       "      <td>...</td>\n",
       "      <td>...</td>\n",
       "      <td>...</td>\n",
       "      <td>...</td>\n",
       "      <td>...</td>\n",
       "      <td>...</td>\n",
       "      <td>...</td>\n",
       "      <td>...</td>\n",
       "    </tr>\n",
       "    <tr>\n",
       "      <th>6173</th>\n",
       "      <td>53345.4</td>\n",
       "      <td>1159.0</td>\n",
       "      <td>1</td>\n",
       "      <td>12</td>\n",
       "      <td>31</td>\n",
       "      <td>2.37</td>\n",
       "      <td>2019</td>\n",
       "      <td>4900.0</td>\n",
       "      <td>1</td>\n",
       "      <td>0</td>\n",
       "      <td>0</td>\n",
       "      <td>0</td>\n",
       "    </tr>\n",
       "    <tr>\n",
       "      <th>6174</th>\n",
       "      <td>23867.3</td>\n",
       "      <td>501.7</td>\n",
       "      <td>1</td>\n",
       "      <td>12</td>\n",
       "      <td>31</td>\n",
       "      <td>2.37</td>\n",
       "      <td>2019</td>\n",
       "      <td>2150.0</td>\n",
       "      <td>1</td>\n",
       "      <td>1</td>\n",
       "      <td>0</td>\n",
       "      <td>0</td>\n",
       "    </tr>\n",
       "    <tr>\n",
       "      <th>6175</th>\n",
       "      <td>23867.3</td>\n",
       "      <td>501.7</td>\n",
       "      <td>1</td>\n",
       "      <td>12</td>\n",
       "      <td>31</td>\n",
       "      <td>2.37</td>\n",
       "      <td>2019</td>\n",
       "      <td>2150.0</td>\n",
       "      <td>1</td>\n",
       "      <td>1</td>\n",
       "      <td>0</td>\n",
       "      <td>0</td>\n",
       "    </tr>\n",
       "    <tr>\n",
       "      <th>6176</th>\n",
       "      <td>23867.3</td>\n",
       "      <td>501.7</td>\n",
       "      <td>1</td>\n",
       "      <td>12</td>\n",
       "      <td>31</td>\n",
       "      <td>2.37</td>\n",
       "      <td>2019</td>\n",
       "      <td>2150.0</td>\n",
       "      <td>1</td>\n",
       "      <td>1</td>\n",
       "      <td>0</td>\n",
       "      <td>0</td>\n",
       "    </tr>\n",
       "    <tr>\n",
       "      <th>6177</th>\n",
       "      <td>23867.3</td>\n",
       "      <td>501.7</td>\n",
       "      <td>1</td>\n",
       "      <td>12</td>\n",
       "      <td>31</td>\n",
       "      <td>2.37</td>\n",
       "      <td>2019</td>\n",
       "      <td>2150.0</td>\n",
       "      <td>1</td>\n",
       "      <td>1</td>\n",
       "      <td>0</td>\n",
       "      <td>0</td>\n",
       "    </tr>\n",
       "  </tbody>\n",
       "</table>\n",
       "<p>6178 rows × 12 columns</p>\n",
       "</div>"
      ],
      "text/plain": [
       "      duration  distance  weekday  month  day  diesel  year    Rate  \\\n",
       "0      82054.9    1801.5        0     10    1    2.30  2018  3500.0   \n",
       "1       7307.8     127.3        0     10    1    2.30  2018   850.0   \n",
       "2      28168.8     604.0        0     10    1    2.30  2018  2300.0   \n",
       "3       7307.8     127.3        1     10    2    2.30  2018   750.0   \n",
       "4       7307.8     127.3        1     10    2    2.30  2018   750.0   \n",
       "...        ...       ...      ...    ...  ...     ...   ...     ...   \n",
       "6173   53345.4    1159.0        1     12   31    2.37  2019  4900.0   \n",
       "6174   23867.3     501.7        1     12   31    2.37  2019  2150.0   \n",
       "6175   23867.3     501.7        1     12   31    2.37  2019  2150.0   \n",
       "6176   23867.3     501.7        1     12   31    2.37  2019  2150.0   \n",
       "6177   23867.3     501.7        1     12   31    2.37  2019  2150.0   \n",
       "\n",
       "      Cross Border  13.5 M Flatbed Trailer  15 M Box Trailer  \\\n",
       "0                1                       0                 0   \n",
       "1                0                       0                 0   \n",
       "2                1                       0                 0   \n",
       "3                0                       0                 0   \n",
       "4                0                       0                 0   \n",
       "...            ...                     ...               ...   \n",
       "6173             1                       0                 0   \n",
       "6174             1                       1                 0   \n",
       "6175             1                       1                 0   \n",
       "6176             1                       1                 0   \n",
       "6177             1                       1                 0   \n",
       "\n",
       "      15 M Flatbed Trailer  \n",
       "0                        1  \n",
       "1                        1  \n",
       "2                        1  \n",
       "3                        1  \n",
       "4                        1  \n",
       "...                    ...  \n",
       "6173                     0  \n",
       "6174                     0  \n",
       "6175                     0  \n",
       "6176                     0  \n",
       "6177                     0  \n",
       "\n",
       "[6178 rows x 12 columns]"
      ]
     },
     "execution_count": 16,
     "metadata": {},
     "output_type": "execute_result"
    }
   ],
   "source": [
    "fdf1=merged.drop(['Route','TruckType','Local','13.5 M Box Trailer'],axis='columns')\n",
    "fdf1"
   ]
  },
  {
   "cell_type": "code",
   "execution_count": 17,
   "metadata": {},
   "outputs": [
    {
     "data": {
      "text/plain": [
       "(6178, 12)"
      ]
     },
     "execution_count": 17,
     "metadata": {},
     "output_type": "execute_result"
    }
   ],
   "source": [
    "fdf1.shape"
   ]
  },
  {
   "cell_type": "markdown",
   "metadata": {},
   "source": [
    "# Data Statistics"
   ]
  },
  {
   "cell_type": "code",
   "execution_count": 18,
   "metadata": {},
   "outputs": [
    {
     "data": {
      "text/html": [
       "<div>\n",
       "<style scoped>\n",
       "    .dataframe tbody tr th:only-of-type {\n",
       "        vertical-align: middle;\n",
       "    }\n",
       "\n",
       "    .dataframe tbody tr th {\n",
       "        vertical-align: top;\n",
       "    }\n",
       "\n",
       "    .dataframe thead th {\n",
       "        text-align: right;\n",
       "    }\n",
       "</style>\n",
       "<table border=\"1\" class=\"dataframe\">\n",
       "  <thead>\n",
       "    <tr style=\"text-align: right;\">\n",
       "      <th></th>\n",
       "      <th>duration</th>\n",
       "      <th>distance</th>\n",
       "      <th>weekday</th>\n",
       "      <th>month</th>\n",
       "      <th>day</th>\n",
       "      <th>diesel</th>\n",
       "      <th>year</th>\n",
       "      <th>Rate</th>\n",
       "      <th>Cross Border</th>\n",
       "      <th>13.5 M Flatbed Trailer</th>\n",
       "      <th>15 M Box Trailer</th>\n",
       "      <th>15 M Flatbed Trailer</th>\n",
       "    </tr>\n",
       "  </thead>\n",
       "  <tbody>\n",
       "    <tr>\n",
       "      <th>0</th>\n",
       "      <td>82054.9</td>\n",
       "      <td>1801.5</td>\n",
       "      <td>0</td>\n",
       "      <td>10</td>\n",
       "      <td>1</td>\n",
       "      <td>2.3</td>\n",
       "      <td>2018</td>\n",
       "      <td>3500.0</td>\n",
       "      <td>1</td>\n",
       "      <td>0</td>\n",
       "      <td>0</td>\n",
       "      <td>1</td>\n",
       "    </tr>\n",
       "    <tr>\n",
       "      <th>1</th>\n",
       "      <td>7307.8</td>\n",
       "      <td>127.3</td>\n",
       "      <td>0</td>\n",
       "      <td>10</td>\n",
       "      <td>1</td>\n",
       "      <td>2.3</td>\n",
       "      <td>2018</td>\n",
       "      <td>850.0</td>\n",
       "      <td>0</td>\n",
       "      <td>0</td>\n",
       "      <td>0</td>\n",
       "      <td>1</td>\n",
       "    </tr>\n",
       "    <tr>\n",
       "      <th>2</th>\n",
       "      <td>28168.8</td>\n",
       "      <td>604.0</td>\n",
       "      <td>0</td>\n",
       "      <td>10</td>\n",
       "      <td>1</td>\n",
       "      <td>2.3</td>\n",
       "      <td>2018</td>\n",
       "      <td>2300.0</td>\n",
       "      <td>1</td>\n",
       "      <td>0</td>\n",
       "      <td>0</td>\n",
       "      <td>1</td>\n",
       "    </tr>\n",
       "    <tr>\n",
       "      <th>3</th>\n",
       "      <td>7307.8</td>\n",
       "      <td>127.3</td>\n",
       "      <td>1</td>\n",
       "      <td>10</td>\n",
       "      <td>2</td>\n",
       "      <td>2.3</td>\n",
       "      <td>2018</td>\n",
       "      <td>750.0</td>\n",
       "      <td>0</td>\n",
       "      <td>0</td>\n",
       "      <td>0</td>\n",
       "      <td>1</td>\n",
       "    </tr>\n",
       "    <tr>\n",
       "      <th>4</th>\n",
       "      <td>7307.8</td>\n",
       "      <td>127.3</td>\n",
       "      <td>1</td>\n",
       "      <td>10</td>\n",
       "      <td>2</td>\n",
       "      <td>2.3</td>\n",
       "      <td>2018</td>\n",
       "      <td>750.0</td>\n",
       "      <td>0</td>\n",
       "      <td>0</td>\n",
       "      <td>0</td>\n",
       "      <td>1</td>\n",
       "    </tr>\n",
       "  </tbody>\n",
       "</table>\n",
       "</div>"
      ],
      "text/plain": [
       "   duration  distance  weekday  month  day  diesel  year    Rate  \\\n",
       "0   82054.9    1801.5        0     10    1     2.3  2018  3500.0   \n",
       "1    7307.8     127.3        0     10    1     2.3  2018   850.0   \n",
       "2   28168.8     604.0        0     10    1     2.3  2018  2300.0   \n",
       "3    7307.8     127.3        1     10    2     2.3  2018   750.0   \n",
       "4    7307.8     127.3        1     10    2     2.3  2018   750.0   \n",
       "\n",
       "   Cross Border  13.5 M Flatbed Trailer  15 M Box Trailer  \\\n",
       "0             1                       0                 0   \n",
       "1             0                       0                 0   \n",
       "2             1                       0                 0   \n",
       "3             0                       0                 0   \n",
       "4             0                       0                 0   \n",
       "\n",
       "   15 M Flatbed Trailer  \n",
       "0                     1  \n",
       "1                     1  \n",
       "2                     1  \n",
       "3                     1  \n",
       "4                     1  "
      ]
     },
     "execution_count": 18,
     "metadata": {},
     "output_type": "execute_result"
    }
   ],
   "source": [
    "fdf1.head()"
   ]
  },
  {
   "cell_type": "code",
   "execution_count": 19,
   "metadata": {},
   "outputs": [],
   "source": [
    "fdf2=fdf1.drop(['weekday','month','day','year','Cross Border','13.5 M Flatbed Trailer','15 M Box Trailer','15 M Flatbed Trailer'],axis='columns')"
   ]
  },
  {
   "cell_type": "code",
   "execution_count": 20,
   "metadata": {},
   "outputs": [
    {
     "data": {
      "text/html": [
       "<div>\n",
       "<style scoped>\n",
       "    .dataframe tbody tr th:only-of-type {\n",
       "        vertical-align: middle;\n",
       "    }\n",
       "\n",
       "    .dataframe tbody tr th {\n",
       "        vertical-align: top;\n",
       "    }\n",
       "\n",
       "    .dataframe thead th {\n",
       "        text-align: right;\n",
       "    }\n",
       "</style>\n",
       "<table border=\"1\" class=\"dataframe\">\n",
       "  <thead>\n",
       "    <tr style=\"text-align: right;\">\n",
       "      <th></th>\n",
       "      <th>duration</th>\n",
       "      <th>distance</th>\n",
       "      <th>diesel</th>\n",
       "      <th>Rate</th>\n",
       "    </tr>\n",
       "  </thead>\n",
       "  <tbody>\n",
       "    <tr>\n",
       "      <th>count</th>\n",
       "      <td>6178.000000</td>\n",
       "      <td>6178.000000</td>\n",
       "      <td>6178.000000</td>\n",
       "      <td>6178.000000</td>\n",
       "    </tr>\n",
       "    <tr>\n",
       "      <th>mean</th>\n",
       "      <td>35345.516138</td>\n",
       "      <td>765.525105</td>\n",
       "      <td>2.406434</td>\n",
       "      <td>2095.723333</td>\n",
       "    </tr>\n",
       "    <tr>\n",
       "      <th>std</th>\n",
       "      <td>30656.234499</td>\n",
       "      <td>714.720567</td>\n",
       "      <td>0.084068</td>\n",
       "      <td>1612.686504</td>\n",
       "    </tr>\n",
       "    <tr>\n",
       "      <th>min</th>\n",
       "      <td>905.500000</td>\n",
       "      <td>8.600000</td>\n",
       "      <td>2.280000</td>\n",
       "      <td>60.000000</td>\n",
       "    </tr>\n",
       "    <tr>\n",
       "      <th>25%</th>\n",
       "      <td>9432.400000</td>\n",
       "      <td>169.100000</td>\n",
       "      <td>2.350000</td>\n",
       "      <td>850.000000</td>\n",
       "    </tr>\n",
       "    <tr>\n",
       "      <th>50%</th>\n",
       "      <td>23867.300000</td>\n",
       "      <td>501.700000</td>\n",
       "      <td>2.410000</td>\n",
       "      <td>1900.000000</td>\n",
       "    </tr>\n",
       "    <tr>\n",
       "      <th>75%</th>\n",
       "      <td>52440.100000</td>\n",
       "      <td>1145.600000</td>\n",
       "      <td>2.490000</td>\n",
       "      <td>3200.000000</td>\n",
       "    </tr>\n",
       "    <tr>\n",
       "      <th>max</th>\n",
       "      <td>213086.800000</td>\n",
       "      <td>3961.200000</td>\n",
       "      <td>2.560000</td>\n",
       "      <td>7000.000000</td>\n",
       "    </tr>\n",
       "  </tbody>\n",
       "</table>\n",
       "</div>"
      ],
      "text/plain": [
       "            duration     distance       diesel         Rate\n",
       "count    6178.000000  6178.000000  6178.000000  6178.000000\n",
       "mean    35345.516138   765.525105     2.406434  2095.723333\n",
       "std     30656.234499   714.720567     0.084068  1612.686504\n",
       "min       905.500000     8.600000     2.280000    60.000000\n",
       "25%      9432.400000   169.100000     2.350000   850.000000\n",
       "50%     23867.300000   501.700000     2.410000  1900.000000\n",
       "75%     52440.100000  1145.600000     2.490000  3200.000000\n",
       "max    213086.800000  3961.200000     2.560000  7000.000000"
      ]
     },
     "execution_count": 20,
     "metadata": {},
     "output_type": "execute_result"
    }
   ],
   "source": [
    "fdf2.describe()"
   ]
  },
  {
   "cell_type": "code",
   "execution_count": 21,
   "metadata": {},
   "outputs": [
    {
     "data": {
      "text/html": [
       "<div>\n",
       "<style scoped>\n",
       "    .dataframe tbody tr th:only-of-type {\n",
       "        vertical-align: middle;\n",
       "    }\n",
       "\n",
       "    .dataframe tbody tr th {\n",
       "        vertical-align: top;\n",
       "    }\n",
       "\n",
       "    .dataframe thead th {\n",
       "        text-align: right;\n",
       "    }\n",
       "</style>\n",
       "<table border=\"1\" class=\"dataframe\">\n",
       "  <thead>\n",
       "    <tr style=\"text-align: right;\">\n",
       "      <th></th>\n",
       "      <th>duration</th>\n",
       "      <th>distance</th>\n",
       "      <th>weekday</th>\n",
       "      <th>month</th>\n",
       "      <th>day</th>\n",
       "      <th>diesel</th>\n",
       "      <th>year</th>\n",
       "      <th>Rate</th>\n",
       "    </tr>\n",
       "    <tr>\n",
       "      <th>Route</th>\n",
       "      <th></th>\n",
       "      <th></th>\n",
       "      <th></th>\n",
       "      <th></th>\n",
       "      <th></th>\n",
       "      <th></th>\n",
       "      <th></th>\n",
       "      <th></th>\n",
       "    </tr>\n",
       "  </thead>\n",
       "  <tbody>\n",
       "    <tr>\n",
       "      <th>Cross Border</th>\n",
       "      <td>57632.873952</td>\n",
       "      <td>1275.332339</td>\n",
       "      <td>2.815416</td>\n",
       "      <td>7.156822</td>\n",
       "      <td>15.685765</td>\n",
       "      <td>2.418399</td>\n",
       "      <td>2018.919965</td>\n",
       "      <td>3247.479327</td>\n",
       "    </tr>\n",
       "    <tr>\n",
       "      <th>Local</th>\n",
       "      <td>8316.506984</td>\n",
       "      <td>147.256017</td>\n",
       "      <td>2.625358</td>\n",
       "      <td>6.662607</td>\n",
       "      <td>16.022206</td>\n",
       "      <td>2.391924</td>\n",
       "      <td>2018.810530</td>\n",
       "      <td>698.930426</td>\n",
       "    </tr>\n",
       "  </tbody>\n",
       "</table>\n",
       "</div>"
      ],
      "text/plain": [
       "                  duration     distance   weekday     month        day  \\\n",
       "Route                                                                    \n",
       "Cross Border  57632.873952  1275.332339  2.815416  7.156822  15.685765   \n",
       "Local          8316.506984   147.256017  2.625358  6.662607  16.022206   \n",
       "\n",
       "                diesel         year         Rate  \n",
       "Route                                             \n",
       "Cross Border  2.418399  2018.919965  3247.479327  \n",
       "Local         2.391924  2018.810530   698.930426  "
      ]
     },
     "execution_count": 21,
     "metadata": {},
     "output_type": "execute_result"
    }
   ],
   "source": [
    "fdf.groupby(\"Route\").mean()"
   ]
  },
  {
   "cell_type": "code",
   "execution_count": 22,
   "metadata": {},
   "outputs": [
    {
     "data": {
      "text/html": [
       "<div>\n",
       "<style scoped>\n",
       "    .dataframe tbody tr th:only-of-type {\n",
       "        vertical-align: middle;\n",
       "    }\n",
       "\n",
       "    .dataframe tbody tr th {\n",
       "        vertical-align: top;\n",
       "    }\n",
       "\n",
       "    .dataframe thead th {\n",
       "        text-align: right;\n",
       "    }\n",
       "</style>\n",
       "<table border=\"1\" class=\"dataframe\">\n",
       "  <thead>\n",
       "    <tr style=\"text-align: right;\">\n",
       "      <th></th>\n",
       "      <th>duration</th>\n",
       "      <th>distance</th>\n",
       "      <th>weekday</th>\n",
       "      <th>month</th>\n",
       "      <th>day</th>\n",
       "      <th>diesel</th>\n",
       "      <th>Rate</th>\n",
       "    </tr>\n",
       "    <tr>\n",
       "      <th>year</th>\n",
       "      <th></th>\n",
       "      <th></th>\n",
       "      <th></th>\n",
       "      <th></th>\n",
       "      <th></th>\n",
       "      <th></th>\n",
       "      <th></th>\n",
       "    </tr>\n",
       "  </thead>\n",
       "  <tbody>\n",
       "    <tr>\n",
       "      <th>2018</th>\n",
       "      <td>26286.725875</td>\n",
       "      <td>557.948625</td>\n",
       "      <td>2.802500</td>\n",
       "      <td>10.971250</td>\n",
       "      <td>15.722500</td>\n",
       "      <td>2.316950</td>\n",
       "      <td>1499.056250</td>\n",
       "    </tr>\n",
       "    <tr>\n",
       "      <th>2019</th>\n",
       "      <td>36693.049089</td>\n",
       "      <td>796.402975</td>\n",
       "      <td>2.718669</td>\n",
       "      <td>6.332837</td>\n",
       "      <td>15.854965</td>\n",
       "      <td>2.419745</td>\n",
       "      <td>2184.480058</td>\n",
       "    </tr>\n",
       "  </tbody>\n",
       "</table>\n",
       "</div>"
      ],
      "text/plain": [
       "          duration    distance   weekday      month        day    diesel  \\\n",
       "year                                                                       \n",
       "2018  26286.725875  557.948625  2.802500  10.971250  15.722500  2.316950   \n",
       "2019  36693.049089  796.402975  2.718669   6.332837  15.854965  2.419745   \n",
       "\n",
       "             Rate  \n",
       "year               \n",
       "2018  1499.056250  \n",
       "2019  2184.480058  "
      ]
     },
     "execution_count": 22,
     "metadata": {},
     "output_type": "execute_result"
    }
   ],
   "source": [
    "fdf.groupby('year').mean()"
   ]
  },
  {
   "cell_type": "code",
   "execution_count": 23,
   "metadata": {},
   "outputs": [
    {
     "data": {
      "text/html": [
       "<div>\n",
       "<style scoped>\n",
       "    .dataframe tbody tr th:only-of-type {\n",
       "        vertical-align: middle;\n",
       "    }\n",
       "\n",
       "    .dataframe tbody tr th {\n",
       "        vertical-align: top;\n",
       "    }\n",
       "\n",
       "    .dataframe thead th {\n",
       "        text-align: right;\n",
       "    }\n",
       "</style>\n",
       "<table border=\"1\" class=\"dataframe\">\n",
       "  <thead>\n",
       "    <tr style=\"text-align: right;\">\n",
       "      <th></th>\n",
       "      <th>duration</th>\n",
       "      <th>distance</th>\n",
       "      <th>weekday</th>\n",
       "      <th>month</th>\n",
       "      <th>day</th>\n",
       "      <th>diesel</th>\n",
       "      <th>year</th>\n",
       "      <th>Rate</th>\n",
       "    </tr>\n",
       "    <tr>\n",
       "      <th>TruckType</th>\n",
       "      <th></th>\n",
       "      <th></th>\n",
       "      <th></th>\n",
       "      <th></th>\n",
       "      <th></th>\n",
       "      <th></th>\n",
       "      <th></th>\n",
       "      <th></th>\n",
       "    </tr>\n",
       "  </thead>\n",
       "  <tbody>\n",
       "    <tr>\n",
       "      <th>13.5 M Box Trailer</th>\n",
       "      <td>86725.542857</td>\n",
       "      <td>2116.857143</td>\n",
       "      <td>2.761905</td>\n",
       "      <td>10.571429</td>\n",
       "      <td>16.666667</td>\n",
       "      <td>2.385714</td>\n",
       "      <td>2019.000000</td>\n",
       "      <td>6352.380952</td>\n",
       "    </tr>\n",
       "    <tr>\n",
       "      <th>13.5 M Flatbed Trailer</th>\n",
       "      <td>41979.937636</td>\n",
       "      <td>911.031998</td>\n",
       "      <td>2.900099</td>\n",
       "      <td>7.004451</td>\n",
       "      <td>15.002473</td>\n",
       "      <td>2.394604</td>\n",
       "      <td>2018.840257</td>\n",
       "      <td>2260.581108</td>\n",
       "    </tr>\n",
       "    <tr>\n",
       "      <th>15 M Box Trailer</th>\n",
       "      <td>77947.895775</td>\n",
       "      <td>1868.233803</td>\n",
       "      <td>3.105634</td>\n",
       "      <td>9.971831</td>\n",
       "      <td>14.542254</td>\n",
       "      <td>2.388028</td>\n",
       "      <td>2019.000000</td>\n",
       "      <td>4927.112676</td>\n",
       "    </tr>\n",
       "    <tr>\n",
       "      <th>15 M Flatbed Trailer</th>\n",
       "      <td>29901.835549</td>\n",
       "      <td>637.741742</td>\n",
       "      <td>2.628902</td>\n",
       "      <td>6.750252</td>\n",
       "      <td>16.300604</td>\n",
       "      <td>2.413333</td>\n",
       "      <td>2018.879909</td>\n",
       "      <td>1865.567409</td>\n",
       "    </tr>\n",
       "  </tbody>\n",
       "</table>\n",
       "</div>"
      ],
      "text/plain": [
       "                            duration     distance   weekday      month  \\\n",
       "TruckType                                                                \n",
       "13.5 M Box Trailer      86725.542857  2116.857143  2.761905  10.571429   \n",
       "13.5 M Flatbed Trailer  41979.937636   911.031998  2.900099   7.004451   \n",
       "15 M Box Trailer        77947.895775  1868.233803  3.105634   9.971831   \n",
       "15 M Flatbed Trailer    29901.835549   637.741742  2.628902   6.750252   \n",
       "\n",
       "                              day    diesel         year         Rate  \n",
       "TruckType                                                              \n",
       "13.5 M Box Trailer      16.666667  2.385714  2019.000000  6352.380952  \n",
       "13.5 M Flatbed Trailer  15.002473  2.394604  2018.840257  2260.581108  \n",
       "15 M Box Trailer        14.542254  2.388028  2019.000000  4927.112676  \n",
       "15 M Flatbed Trailer    16.300604  2.413333  2018.879909  1865.567409  "
      ]
     },
     "execution_count": 23,
     "metadata": {},
     "output_type": "execute_result"
    }
   ],
   "source": [
    "fdf.groupby('TruckType').mean()"
   ]
  },
  {
   "cell_type": "code",
   "execution_count": 24,
   "metadata": {},
   "outputs": [
    {
     "data": {
      "text/html": [
       "<div>\n",
       "<style scoped>\n",
       "    .dataframe tbody tr th:only-of-type {\n",
       "        vertical-align: middle;\n",
       "    }\n",
       "\n",
       "    .dataframe tbody tr th {\n",
       "        vertical-align: top;\n",
       "    }\n",
       "\n",
       "    .dataframe thead th {\n",
       "        text-align: right;\n",
       "    }\n",
       "</style>\n",
       "<table border=\"1\" class=\"dataframe\">\n",
       "  <thead>\n",
       "    <tr style=\"text-align: right;\">\n",
       "      <th></th>\n",
       "      <th></th>\n",
       "      <th>duration</th>\n",
       "      <th>distance</th>\n",
       "      <th>weekday</th>\n",
       "      <th>month</th>\n",
       "      <th>day</th>\n",
       "      <th>diesel</th>\n",
       "      <th>Rate</th>\n",
       "    </tr>\n",
       "    <tr>\n",
       "      <th>TruckType</th>\n",
       "      <th>year</th>\n",
       "      <th></th>\n",
       "      <th></th>\n",
       "      <th></th>\n",
       "      <th></th>\n",
       "      <th></th>\n",
       "      <th></th>\n",
       "      <th></th>\n",
       "    </tr>\n",
       "  </thead>\n",
       "  <tbody>\n",
       "    <tr>\n",
       "      <th>13.5 M Box Trailer</th>\n",
       "      <th>2019</th>\n",
       "      <td>86725.542857</td>\n",
       "      <td>2116.857143</td>\n",
       "      <td>2.761905</td>\n",
       "      <td>10.571429</td>\n",
       "      <td>16.666667</td>\n",
       "      <td>2.385714</td>\n",
       "      <td>6352.380952</td>\n",
       "    </tr>\n",
       "    <tr>\n",
       "      <th rowspan=\"2\" valign=\"top\">13.5 M Flatbed Trailer</th>\n",
       "      <th>2018</th>\n",
       "      <td>40899.062848</td>\n",
       "      <td>895.600619</td>\n",
       "      <td>2.857585</td>\n",
       "      <td>10.965944</td>\n",
       "      <td>15.247678</td>\n",
       "      <td>2.340495</td>\n",
       "      <td>2154.241486</td>\n",
       "    </tr>\n",
       "    <tr>\n",
       "      <th>2019</th>\n",
       "      <td>42185.424720</td>\n",
       "      <td>913.965686</td>\n",
       "      <td>2.908181</td>\n",
       "      <td>6.251324</td>\n",
       "      <td>14.955856</td>\n",
       "      <td>2.404891</td>\n",
       "      <td>2280.797528</td>\n",
       "    </tr>\n",
       "    <tr>\n",
       "      <th>15 M Box Trailer</th>\n",
       "      <th>2019</th>\n",
       "      <td>77947.895775</td>\n",
       "      <td>1868.233803</td>\n",
       "      <td>3.105634</td>\n",
       "      <td>9.971831</td>\n",
       "      <td>14.542254</td>\n",
       "      <td>2.388028</td>\n",
       "      <td>4927.112676</td>\n",
       "    </tr>\n",
       "    <tr>\n",
       "      <th rowspan=\"2\" valign=\"top\">15 M Flatbed Trailer</th>\n",
       "      <th>2018</th>\n",
       "      <td>16391.998742</td>\n",
       "      <td>329.307966</td>\n",
       "      <td>2.765199</td>\n",
       "      <td>10.974843</td>\n",
       "      <td>16.044025</td>\n",
       "      <td>2.301006</td>\n",
       "      <td>1055.398323</td>\n",
       "    </tr>\n",
       "    <tr>\n",
       "      <th>2019</th>\n",
       "      <td>31745.667353</td>\n",
       "      <td>679.836996</td>\n",
       "      <td>2.610300</td>\n",
       "      <td>6.173677</td>\n",
       "      <td>16.335622</td>\n",
       "      <td>2.428664</td>\n",
       "      <td>1976.139843</td>\n",
       "    </tr>\n",
       "  </tbody>\n",
       "</table>\n",
       "</div>"
      ],
      "text/plain": [
       "                                 duration     distance   weekday      month  \\\n",
       "TruckType              year                                                   \n",
       "13.5 M Box Trailer     2019  86725.542857  2116.857143  2.761905  10.571429   \n",
       "13.5 M Flatbed Trailer 2018  40899.062848   895.600619  2.857585  10.965944   \n",
       "                       2019  42185.424720   913.965686  2.908181   6.251324   \n",
       "15 M Box Trailer       2019  77947.895775  1868.233803  3.105634   9.971831   \n",
       "15 M Flatbed Trailer   2018  16391.998742   329.307966  2.765199  10.974843   \n",
       "                       2019  31745.667353   679.836996  2.610300   6.173677   \n",
       "\n",
       "                                   day    diesel         Rate  \n",
       "TruckType              year                                    \n",
       "13.5 M Box Trailer     2019  16.666667  2.385714  6352.380952  \n",
       "13.5 M Flatbed Trailer 2018  15.247678  2.340495  2154.241486  \n",
       "                       2019  14.955856  2.404891  2280.797528  \n",
       "15 M Box Trailer       2019  14.542254  2.388028  4927.112676  \n",
       "15 M Flatbed Trailer   2018  16.044025  2.301006  1055.398323  \n",
       "                       2019  16.335622  2.428664  1976.139843  "
      ]
     },
     "execution_count": 24,
     "metadata": {},
     "output_type": "execute_result"
    }
   ],
   "source": [
    "fdf.groupby(['TruckType','year']).mean()"
   ]
  },
  {
   "cell_type": "code",
   "execution_count": 25,
   "metadata": {},
   "outputs": [
    {
     "data": {
      "text/html": [
       "<div>\n",
       "<style scoped>\n",
       "    .dataframe tbody tr th:only-of-type {\n",
       "        vertical-align: middle;\n",
       "    }\n",
       "\n",
       "    .dataframe tbody tr th {\n",
       "        vertical-align: top;\n",
       "    }\n",
       "\n",
       "    .dataframe thead th {\n",
       "        text-align: right;\n",
       "    }\n",
       "</style>\n",
       "<table border=\"1\" class=\"dataframe\">\n",
       "  <thead>\n",
       "    <tr style=\"text-align: right;\">\n",
       "      <th></th>\n",
       "      <th></th>\n",
       "      <th>duration</th>\n",
       "      <th>distance</th>\n",
       "      <th>weekday</th>\n",
       "      <th>month</th>\n",
       "      <th>day</th>\n",
       "      <th>diesel</th>\n",
       "      <th>Rate</th>\n",
       "    </tr>\n",
       "    <tr>\n",
       "      <th>Route</th>\n",
       "      <th>year</th>\n",
       "      <th></th>\n",
       "      <th></th>\n",
       "      <th></th>\n",
       "      <th></th>\n",
       "      <th></th>\n",
       "      <th></th>\n",
       "      <th></th>\n",
       "    </tr>\n",
       "  </thead>\n",
       "  <tbody>\n",
       "    <tr>\n",
       "      <th rowspan=\"2\" valign=\"top\">Cross Border</th>\n",
       "      <th>2018</th>\n",
       "      <td>60938.751661</td>\n",
       "      <td>1349.597786</td>\n",
       "      <td>2.800738</td>\n",
       "      <td>11.011070</td>\n",
       "      <td>14.904059</td>\n",
       "      <td>2.329996</td>\n",
       "      <td>3093.653137</td>\n",
       "    </tr>\n",
       "    <tr>\n",
       "      <th>2019</th>\n",
       "      <td>57345.267897</td>\n",
       "      <td>1268.871364</td>\n",
       "      <td>2.816693</td>\n",
       "      <td>6.821509</td>\n",
       "      <td>15.753772</td>\n",
       "      <td>2.426090</td>\n",
       "      <td>3260.861958</td>\n",
       "    </tr>\n",
       "    <tr>\n",
       "      <th rowspan=\"2\" valign=\"top\">Local</th>\n",
       "      <th>2018</th>\n",
       "      <td>8534.931947</td>\n",
       "      <td>152.396786</td>\n",
       "      <td>2.803403</td>\n",
       "      <td>10.950851</td>\n",
       "      <td>16.141777</td>\n",
       "      <td>2.310267</td>\n",
       "      <td>682.164461</td>\n",
       "    </tr>\n",
       "    <tr>\n",
       "      <th>2019</th>\n",
       "      <td>8265.447857</td>\n",
       "      <td>146.054308</td>\n",
       "      <td>2.583738</td>\n",
       "      <td>5.660186</td>\n",
       "      <td>15.994255</td>\n",
       "      <td>2.411012</td>\n",
       "      <td>702.849646</td>\n",
       "    </tr>\n",
       "  </tbody>\n",
       "</table>\n",
       "</div>"
      ],
      "text/plain": [
       "                       duration     distance   weekday      month        day  \\\n",
       "Route        year                                                              \n",
       "Cross Border 2018  60938.751661  1349.597786  2.800738  11.011070  14.904059   \n",
       "             2019  57345.267897  1268.871364  2.816693   6.821509  15.753772   \n",
       "Local        2018   8534.931947   152.396786  2.803403  10.950851  16.141777   \n",
       "             2019   8265.447857   146.054308  2.583738   5.660186  15.994255   \n",
       "\n",
       "                     diesel         Rate  \n",
       "Route        year                         \n",
       "Cross Border 2018  2.329996  3093.653137  \n",
       "             2019  2.426090  3260.861958  \n",
       "Local        2018  2.310267   682.164461  \n",
       "             2019  2.411012   702.849646  "
      ]
     },
     "execution_count": 25,
     "metadata": {},
     "output_type": "execute_result"
    }
   ],
   "source": [
    "fdf.groupby(['Route','year']).mean()"
   ]
  },
  {
   "cell_type": "code",
   "execution_count": 26,
   "metadata": {},
   "outputs": [
    {
     "data": {
      "text/html": [
       "<div>\n",
       "<style scoped>\n",
       "    .dataframe tbody tr th:only-of-type {\n",
       "        vertical-align: middle;\n",
       "    }\n",
       "\n",
       "    .dataframe tbody tr th {\n",
       "        vertical-align: top;\n",
       "    }\n",
       "\n",
       "    .dataframe thead th {\n",
       "        text-align: right;\n",
       "    }\n",
       "</style>\n",
       "<table border=\"1\" class=\"dataframe\">\n",
       "  <thead>\n",
       "    <tr style=\"text-align: right;\">\n",
       "      <th></th>\n",
       "      <th></th>\n",
       "      <th>duration</th>\n",
       "      <th>distance</th>\n",
       "      <th>weekday</th>\n",
       "      <th>month</th>\n",
       "      <th>day</th>\n",
       "      <th>diesel</th>\n",
       "      <th>year</th>\n",
       "      <th>Rate</th>\n",
       "    </tr>\n",
       "    <tr>\n",
       "      <th>TruckType</th>\n",
       "      <th>Route</th>\n",
       "      <th></th>\n",
       "      <th></th>\n",
       "      <th></th>\n",
       "      <th></th>\n",
       "      <th></th>\n",
       "      <th></th>\n",
       "      <th></th>\n",
       "      <th></th>\n",
       "    </tr>\n",
       "  </thead>\n",
       "  <tbody>\n",
       "    <tr>\n",
       "      <th>13.5 M Box Trailer</th>\n",
       "      <th>Cross Border</th>\n",
       "      <td>86725.542857</td>\n",
       "      <td>2116.857143</td>\n",
       "      <td>2.761905</td>\n",
       "      <td>10.571429</td>\n",
       "      <td>16.666667</td>\n",
       "      <td>2.385714</td>\n",
       "      <td>2019.000000</td>\n",
       "      <td>6352.380952</td>\n",
       "    </tr>\n",
       "    <tr>\n",
       "      <th rowspan=\"2\" valign=\"top\">13.5 M Flatbed Trailer</th>\n",
       "      <th>Cross Border</th>\n",
       "      <td>56074.245964</td>\n",
       "      <td>1225.838167</td>\n",
       "      <td>3.069767</td>\n",
       "      <td>7.034200</td>\n",
       "      <td>14.775650</td>\n",
       "      <td>2.396231</td>\n",
       "      <td>2018.864569</td>\n",
       "      <td>2881.997264</td>\n",
       "    </tr>\n",
       "    <tr>\n",
       "      <th>Local</th>\n",
       "      <td>5183.725536</td>\n",
       "      <td>89.163036</td>\n",
       "      <td>2.457143</td>\n",
       "      <td>6.926786</td>\n",
       "      <td>15.594643</td>\n",
       "      <td>2.390359</td>\n",
       "      <td>2018.776786</td>\n",
       "      <td>638.241071</td>\n",
       "    </tr>\n",
       "    <tr>\n",
       "      <th>15 M Box Trailer</th>\n",
       "      <th>Cross Border</th>\n",
       "      <td>77947.895775</td>\n",
       "      <td>1868.233803</td>\n",
       "      <td>3.105634</td>\n",
       "      <td>9.971831</td>\n",
       "      <td>14.542254</td>\n",
       "      <td>2.388028</td>\n",
       "      <td>2019.000000</td>\n",
       "      <td>4927.112676</td>\n",
       "    </tr>\n",
       "    <tr>\n",
       "      <th rowspan=\"2\" valign=\"top\">15 M Flatbed Trailer</th>\n",
       "      <th>Cross Border</th>\n",
       "      <td>56582.350345</td>\n",
       "      <td>1248.219943</td>\n",
       "      <td>2.579310</td>\n",
       "      <td>6.947701</td>\n",
       "      <td>16.520115</td>\n",
       "      <td>2.440293</td>\n",
       "      <td>2018.958046</td>\n",
       "      <td>3342.548851</td>\n",
       "    </tr>\n",
       "    <tr>\n",
       "      <th>Local</th>\n",
       "      <td>9102.509498</td>\n",
       "      <td>161.831317</td>\n",
       "      <td>2.667563</td>\n",
       "      <td>6.596326</td>\n",
       "      <td>16.129480</td>\n",
       "      <td>2.392316</td>\n",
       "      <td>2018.818996</td>\n",
       "      <td>714.157146</td>\n",
       "    </tr>\n",
       "  </tbody>\n",
       "</table>\n",
       "</div>"
      ],
      "text/plain": [
       "                                         duration     distance   weekday  \\\n",
       "TruckType              Route                                               \n",
       "13.5 M Box Trailer     Cross Border  86725.542857  2116.857143  2.761905   \n",
       "13.5 M Flatbed Trailer Cross Border  56074.245964  1225.838167  3.069767   \n",
       "                       Local          5183.725536    89.163036  2.457143   \n",
       "15 M Box Trailer       Cross Border  77947.895775  1868.233803  3.105634   \n",
       "15 M Flatbed Trailer   Cross Border  56582.350345  1248.219943  2.579310   \n",
       "                       Local          9102.509498   161.831317  2.667563   \n",
       "\n",
       "                                         month        day    diesel  \\\n",
       "TruckType              Route                                          \n",
       "13.5 M Box Trailer     Cross Border  10.571429  16.666667  2.385714   \n",
       "13.5 M Flatbed Trailer Cross Border   7.034200  14.775650  2.396231   \n",
       "                       Local          6.926786  15.594643  2.390359   \n",
       "15 M Box Trailer       Cross Border   9.971831  14.542254  2.388028   \n",
       "15 M Flatbed Trailer   Cross Border   6.947701  16.520115  2.440293   \n",
       "                       Local          6.596326  16.129480  2.392316   \n",
       "\n",
       "                                            year         Rate  \n",
       "TruckType              Route                                   \n",
       "13.5 M Box Trailer     Cross Border  2019.000000  6352.380952  \n",
       "13.5 M Flatbed Trailer Cross Border  2018.864569  2881.997264  \n",
       "                       Local         2018.776786   638.241071  \n",
       "15 M Box Trailer       Cross Border  2019.000000  4927.112676  \n",
       "15 M Flatbed Trailer   Cross Border  2018.958046  3342.548851  \n",
       "                       Local         2018.818996   714.157146  "
      ]
     },
     "execution_count": 26,
     "metadata": {},
     "output_type": "execute_result"
    }
   ],
   "source": [
    "fdf.groupby(['TruckType','Route']).mean()"
   ]
  },
  {
   "cell_type": "code",
   "execution_count": 27,
   "metadata": {},
   "outputs": [
    {
     "data": {
      "text/plain": [
       "Cross Border    3386\n",
       "Local           2792\n",
       "Name: Route, dtype: int64"
      ]
     },
     "execution_count": 27,
     "metadata": {},
     "output_type": "execute_result"
    }
   ],
   "source": [
    "fdf['Route'].value_counts()"
   ]
  },
  {
   "cell_type": "code",
   "execution_count": 28,
   "metadata": {},
   "outputs": [
    {
     "data": {
      "text/plain": [
       "2019    5378\n",
       "2018     800\n",
       "Name: year, dtype: int64"
      ]
     },
     "execution_count": 28,
     "metadata": {},
     "output_type": "execute_result"
    }
   ],
   "source": [
    "fdf['year'].value_counts()"
   ]
  },
  {
   "cell_type": "code",
   "execution_count": 29,
   "metadata": {},
   "outputs": [
    {
     "data": {
      "text/plain": [
       "15 M Flatbed Trailer      3972\n",
       "13.5 M Flatbed Trailer    2022\n",
       "15 M Box Trailer           142\n",
       "13.5 M Box Trailer          42\n",
       "Name: TruckType, dtype: int64"
      ]
     },
     "execution_count": 29,
     "metadata": {},
     "output_type": "execute_result"
    }
   ],
   "source": [
    "fdf['TruckType'].value_counts()"
   ]
  },
  {
   "cell_type": "markdown",
   "metadata": {},
   "source": [
    "# Data Visualization"
   ]
  },
  {
   "cell_type": "code",
   "execution_count": 30,
   "metadata": {},
   "outputs": [
    {
     "data": {
      "image/png": "[encoded data removed]",
      "text/plain": [
       "<Figure size 432x288 with 2 Axes>"
      ]
     },
     "metadata": {
      "needs_background": "light"
     },
     "output_type": "display_data"
    }
   ],
   "source": [
    "fig = plt.figure()\n",
    "ax1 = fig.add_subplot(131)\n",
    "ax2 = fig.add_subplot(132)\n",
    "\n",
    "# Plot the data\n",
    "ax1.plot(fdf['year'],fdf['Rate'])\n",
    "ax2.scatter(fdf['year'],fdf['Rate'])\n",
    "\n",
    "# Show the plot\n",
    "plt.show()"
   ]
  },
  {
   "cell_type": "code",
   "execution_count": 31,
   "metadata": {},
   "outputs": [
    {
     "name": "stderr",
     "output_type": "stream",
     "text": [
      "E:\\Anaconda\\lib\\site-packages\\seaborn\\_decorators.py:36: FutureWarning: Pass the following variables as keyword args: x, y. From version 0.12, the only valid positional argument will be `data`, and passing other arguments without an explicit keyword will result in an error or misinterpretation.\n",
      "  warnings.warn(\n"
     ]
    },
    {
     "data": {
      "text/plain": [
       "<AxesSubplot:xlabel='year', ylabel='Rate'>"
      ]
     },
     "execution_count": 31,
     "metadata": {},
     "output_type": "execute_result"
    },
    {
     "data": {
      "image/png": "[encoded data removed]",
      "text/plain": [
       "<Figure size 432x288 with 1 Axes>"
      ]
     },
     "metadata": {
      "needs_background": "light"
     },
     "output_type": "display_data"
    }
   ],
   "source": [
    "sns.barplot(fdf['year'],fdf['Rate'])"
   ]
  },
  {
   "cell_type": "code",
   "execution_count": 32,
   "metadata": {},
   "outputs": [
    {
     "name": "stderr",
     "output_type": "stream",
     "text": [
      "E:\\Anaconda\\lib\\site-packages\\seaborn\\distributions.py:2551: FutureWarning: `distplot` is a deprecated function and will be removed in a future version. Please adapt your code to use either `displot` (a figure-level function with similar flexibility) or `histplot` (an axes-level function for histograms).\n",
      "  warnings.warn(msg, FutureWarning)\n"
     ]
    },
    {
     "data": {
      "text/plain": [
       "<AxesSubplot:xlabel='Rate', ylabel='Density'>"
      ]
     },
     "execution_count": 32,
     "metadata": {},
     "output_type": "execute_result"
    },
    {
     "data": {
      "image/png": "[encoded data removed]",
      "text/plain": [
       "<Figure size 432x288 with 1 Axes>"
      ]
     },
     "metadata": {
      "needs_background": "light"
     },
     "output_type": "display_data"
    }
   ],
   "source": [
    "sns.distplot(fdf['Rate'])"
   ]
  },
  {
   "cell_type": "code",
   "execution_count": 33,
   "metadata": {},
   "outputs": [
    {
     "name": "stderr",
     "output_type": "stream",
     "text": [
      "E:\\Anaconda\\lib\\site-packages\\seaborn\\_decorators.py:36: FutureWarning: Pass the following variables as keyword args: x, y. From version 0.12, the only valid positional argument will be `data`, and passing other arguments without an explicit keyword will result in an error or misinterpretation.\n",
      "  warnings.warn(\n"
     ]
    },
    {
     "data": {
      "text/plain": [
       "<seaborn.axisgrid.JointGrid at 0x1c0f953e9a0>"
      ]
     },
     "execution_count": 33,
     "metadata": {},
     "output_type": "execute_result"
    },
    {
     "data": {
      "image/png": "[encoded data removed]",
      "text/plain": [
       "<Figure size 432x432 with 3 Axes>"
      ]
     },
     "metadata": {
      "needs_background": "light"
     },
     "output_type": "display_data"
    }
   ],
   "source": [
    "sns.jointplot(fdf['year'],fdf['Rate'])"
   ]
  },
  {
   "cell_type": "code",
   "execution_count": 34,
   "metadata": {},
   "outputs": [
    {
     "data": {
      "text/plain": [
       "<seaborn.axisgrid.PairGrid at 0x1c0f98ef0d0>"
      ]
     },
     "execution_count": 34,
     "metadata": {},
     "output_type": "execute_result"
    },
    {
     "data": {
      "image/png": "[encoded data removed]",
      "text/plain": [
       "<Figure size 720x720 with 20 Axes>"
      ]
     },
     "metadata": {
      "needs_background": "light"
     },
     "output_type": "display_data"
    }
   ],
   "source": [
    "sns.pairplot(fdf[['distance','duration','diesel','Rate']])"
   ]
  },
  {
   "cell_type": "code",
   "execution_count": 35,
   "metadata": {},
   "outputs": [
    {
     "name": "stderr",
     "output_type": "stream",
     "text": [
      "E:\\Anaconda\\lib\\site-packages\\seaborn\\_decorators.py:36: FutureWarning: Pass the following variables as keyword args: x, y. From version 0.12, the only valid positional argument will be `data`, and passing other arguments without an explicit keyword will result in an error or misinterpretation.\n",
      "  warnings.warn(\n"
     ]
    },
    {
     "data": {
      "text/plain": [
       "<AxesSubplot:xlabel='Route', ylabel='Rate'>"
      ]
     },
     "execution_count": 35,
     "metadata": {},
     "output_type": "execute_result"
    },
    {
     "data": {
      "image/png": "[encoded data removed]",
      "text/plain": [
       "<Figure size 432x288 with 1 Axes>"
      ]
     },
     "metadata": {
      "needs_background": "light"
     },
     "output_type": "display_data"
    }
   ],
   "source": [
    "sns.stripplot(fdf['Route'],fdf['Rate'],jitter=True)"
   ]
  },
  {
   "cell_type": "code",
   "execution_count": 36,
   "metadata": {},
   "outputs": [
    {
     "name": "stderr",
     "output_type": "stream",
     "text": [
      "E:\\Anaconda\\lib\\site-packages\\seaborn\\_decorators.py:36: FutureWarning: Pass the following variables as keyword args: x, y. From version 0.12, the only valid positional argument will be `data`, and passing other arguments without an explicit keyword will result in an error or misinterpretation.\n",
      "  warnings.warn(\n"
     ]
    },
    {
     "data": {
      "text/plain": [
       "<AxesSubplot:xlabel='year', ylabel='Rate'>"
      ]
     },
     "execution_count": 36,
     "metadata": {},
     "output_type": "execute_result"
    },
    {
     "data": {
      "image/png": "[encoded data removed]",
      "text/plain": [
       "<Figure size 432x288 with 1 Axes>"
      ]
     },
     "metadata": {
      "needs_background": "light"
     },
     "output_type": "display_data"
    }
   ],
   "source": [
    "sns.boxplot(fdf['year'], fdf['Rate'], hue=fdf['TruckType'])"
   ]
  },
  {
   "cell_type": "code",
   "execution_count": 37,
   "metadata": {},
   "outputs": [
    {
     "name": "stderr",
     "output_type": "stream",
     "text": [
      "E:\\Anaconda\\lib\\site-packages\\seaborn\\_decorators.py:36: FutureWarning: Pass the following variables as keyword args: x, y. From version 0.12, the only valid positional argument will be `data`, and passing other arguments without an explicit keyword will result in an error or misinterpretation.\n",
      "  warnings.warn(\n"
     ]
    },
    {
     "data": {
      "text/plain": [
       "<AxesSubplot:xlabel='year', ylabel='Rate'>"
      ]
     },
     "execution_count": 37,
     "metadata": {},
     "output_type": "execute_result"
    },
    {
     "data": {
      "image/png": "[encoded data removed]",
      "text/plain": [
       "<Figure size 432x288 with 1 Axes>"
      ]
     },
     "metadata": {
      "needs_background": "light"
     },
     "output_type": "display_data"
    }
   ],
   "source": [
    "sns.barplot(fdf['year'], fdf['Rate'], hue=fdf['TruckType'])"
   ]
  },
  {
   "cell_type": "code",
   "execution_count": 38,
   "metadata": {},
   "outputs": [
    {
     "data": {
      "text/plain": [
       "<seaborn.axisgrid.FacetGrid at 0x1c0fb6259d0>"
      ]
     },
     "execution_count": 38,
     "metadata": {},
     "output_type": "execute_result"
    },
    {
     "data": {
      "image/png": "[encoded data removed]",
      "text/plain": [
       "<Figure size 504.5x360 with 1 Axes>"
      ]
     },
     "metadata": {
      "needs_background": "light"
     },
     "output_type": "display_data"
    }
   ],
   "source": [
    "sns.lmplot(x=\"year\", y=\"Rate\", hue=\"TruckType\", data=fdf)"
   ]
  },
  {
   "cell_type": "code",
   "execution_count": 39,
   "metadata": {},
   "outputs": [
    {
     "data": {
      "text/plain": [
       "<seaborn.axisgrid.FacetGrid at 0x1c0fb6b4fa0>"
      ]
     },
     "execution_count": 39,
     "metadata": {},
     "output_type": "execute_result"
    },
    {
     "data": {
      "image/png": "[encoded data removed]",
      "text/plain": [
       "<Figure size 504.5x360 with 1 Axes>"
      ]
     },
     "metadata": {
      "needs_background": "light"
     },
     "output_type": "display_data"
    }
   ],
   "source": [
    "sns.lmplot(x=\"distance\", y=\"Rate\", hue=\"TruckType\", data=fdf)"
   ]
  },
  {
   "cell_type": "code",
   "execution_count": 40,
   "metadata": {},
   "outputs": [
    {
     "data": {
      "text/plain": [
       "<seaborn.axisgrid.FacetGrid at 0x1c0fb731af0>"
      ]
     },
     "execution_count": 40,
     "metadata": {},
     "output_type": "execute_result"
    },
    {
     "data": {
      "image/png": "[encoded data removed]",
      "text/plain": [
       "<Figure size 504.5x360 with 1 Axes>"
      ]
     },
     "metadata": {
      "needs_background": "light"
     },
     "output_type": "display_data"
    }
   ],
   "source": [
    "sns.lmplot(x=\"duration\", y=\"Rate\", hue=\"TruckType\", data=fdf)"
   ]
  },
  {
   "cell_type": "code",
   "execution_count": 41,
   "metadata": {},
   "outputs": [
    {
     "data": {
      "text/plain": [
       "<seaborn.axisgrid.FacetGrid at 0x1c0fb730a00>"
      ]
     },
     "execution_count": 41,
     "metadata": {},
     "output_type": "execute_result"
    },
    {
     "data": {
      "image/png": "[encoded data removed]",
      "text/plain": [
       "<Figure size 504.5x360 with 1 Axes>"
      ]
     },
     "metadata": {
      "needs_background": "light"
     },
     "output_type": "display_data"
    }
   ],
   "source": [
    "sns.lmplot(x=\"diesel\", y=\"Rate\", hue=\"TruckType\", data=fdf)"
   ]
  },
  {
   "cell_type": "code",
   "execution_count": 42,
   "metadata": {},
   "outputs": [
    {
     "name": "stderr",
     "output_type": "stream",
     "text": [
      "E:\\Anaconda\\lib\\site-packages\\seaborn\\_decorators.py:36: FutureWarning: Pass the following variables as keyword args: x, y. From version 0.12, the only valid positional argument will be `data`, and passing other arguments without an explicit keyword will result in an error or misinterpretation.\n",
      "  warnings.warn(\n"
     ]
    },
    {
     "data": {
      "text/plain": [
       "<AxesSubplot:xlabel='year', ylabel='Rate'>"
      ]
     },
     "execution_count": 42,
     "metadata": {},
     "output_type": "execute_result"
    },
    {
     "data": {
      "image/png": "[encoded data removed]",
      "text/plain": [
       "<Figure size 432x288 with 1 Axes>"
      ]
     },
     "metadata": {
      "needs_background": "light"
     },
     "output_type": "display_data"
    }
   ],
   "source": [
    "sns.pointplot(fdf['year'], fdf['Rate'], hue=fdf['TruckType'])"
   ]
  },
  {
   "cell_type": "code",
   "execution_count": 43,
   "metadata": {},
   "outputs": [
    {
     "name": "stderr",
     "output_type": "stream",
     "text": [
      "E:\\Anaconda\\lib\\site-packages\\seaborn\\_decorators.py:36: FutureWarning: Pass the following variable as a keyword arg: x. From version 0.12, the only valid positional argument will be `data`, and passing other arguments without an explicit keyword will result in an error or misinterpretation.\n",
      "  warnings.warn(\n"
     ]
    },
    {
     "data": {
      "text/plain": [
       "<AxesSubplot:xlabel='TruckType', ylabel='count'>"
      ]
     },
     "execution_count": 43,
     "metadata": {},
     "output_type": "execute_result"
    },
    {
     "data": {
      "image/png": "[encoded data removed]",
      "text/plain": [
       "<Figure size 432x288 with 1 Axes>"
      ]
     },
     "metadata": {
      "needs_background": "light"
     },
     "output_type": "display_data"
    }
   ],
   "source": [
    "sns.countplot(fdf['TruckType'])"
   ]
  },
  {
   "cell_type": "code",
   "execution_count": 44,
   "metadata": {
    "scrolled": true
   },
   "outputs": [
    {
     "name": "stderr",
     "output_type": "stream",
     "text": [
      "E:\\Anaconda\\lib\\site-packages\\seaborn\\_decorators.py:36: FutureWarning: Pass the following variable as a keyword arg: x. From version 0.12, the only valid positional argument will be `data`, and passing other arguments without an explicit keyword will result in an error or misinterpretation.\n",
      "  warnings.warn(\n"
     ]
    },
    {
     "data": {
      "text/plain": [
       "<AxesSubplot:xlabel='Route', ylabel='count'>"
      ]
     },
     "execution_count": 44,
     "metadata": {},
     "output_type": "execute_result"
    },
    {
     "data": {
      "image/png": "[encoded data removed]",
      "text/plain": [
       "<Figure size 432x288 with 1 Axes>"
      ]
     },
     "metadata": {
      "needs_background": "light"
     },
     "output_type": "display_data"
    }
   ],
   "source": [
    "sns.countplot(fdf['Route'])"
   ]
  },
  {
   "cell_type": "code",
   "execution_count": 45,
   "metadata": {},
   "outputs": [
    {
     "data": {
      "text/plain": [
       "Text(8, 15, 'xyzzzzz')"
      ]
     },
     "execution_count": 45,
     "metadata": {},
     "output_type": "execute_result"
    },
    {
     "data": {
      "image/png": "[encoded data removed]",
      "text/plain": [
       "<Figure size 1500x900 with 1 Axes>"
      ]
     },
     "metadata": {
      "needs_background": "light"
     },
     "output_type": "display_data"
    }
   ],
   "source": [
    "import scipy.stats\n",
    "%matplotlib inline\n",
    "\n",
    "x=fdf.distance\n",
    "y=fdf.Rate\n",
    "slope, intercept, r, p, stderr = scipy.stats.linregress(x, y)\n",
    "\n",
    "line = f'regression line,  p = {p:.3f}, r={r:.3f}'\n",
    "\n",
    "fig, ax = plt.subplots(figsize = (10,6),dpi=150)\n",
    "ax.plot(x, y,  linewidth=0,marker='o', label='Data points')\n",
    "ax.plot(x, intercept + slope * x, label=line)\n",
    "ax.set_xlabel('Distance')\n",
    "ax.set_ylabel('Rate')\n",
    "ax.legend(facecolor='white')\n",
    "ax.text(8,15,'xyzzzzz',fontsize = 12)"
   ]
  },
  {
   "cell_type": "code",
   "execution_count": 46,
   "metadata": {},
   "outputs": [
    {
     "data": {
      "text/plain": [
       "Text(8, 15, 'xyzzzzz')"
      ]
     },
     "execution_count": 46,
     "metadata": {},
     "output_type": "execute_result"
    },
    {
     "data": {
      "image/png": "[encoded data removed]",
      "text/plain": [
       "<Figure size 1500x900 with 1 Axes>"
      ]
     },
     "metadata": {
      "needs_background": "light"
     },
     "output_type": "display_data"
    }
   ],
   "source": [
    "import scipy.stats\n",
    "%matplotlib inline\n",
    "\n",
    "x=fdf.duration\n",
    "y=fdf.Rate\n",
    "slope, intercept, r, p, stderr = scipy.stats.linregress(x, y)\n",
    "\n",
    "line = f'regression line,  p = {p:.3f}, r={r:.3f}'\n",
    "\n",
    "fig, ax = plt.subplots(figsize = (10,6),dpi=150)\n",
    "ax.plot(x, y,  linewidth=0,marker='o', label='Data points')\n",
    "ax.plot(x, intercept + slope * x, label=line)\n",
    "ax.set_xlabel('Travel Time')\n",
    "ax.set_ylabel('Rate')\n",
    "ax.legend(facecolor='white')\n",
    "ax.text(8,15,'xyzzzzz',fontsize = 12)"
   ]
  },
  {
   "cell_type": "code",
   "execution_count": 47,
   "metadata": {},
   "outputs": [
    {
     "data": {
      "text/plain": [
       "Index(['duration', 'distance', 'weekday', 'month', 'day', 'diesel', 'year',\n",
       "       'Rate', 'Cross Border', '13.5 M Flatbed Trailer', '15 M Box Trailer',\n",
       "       '15 M Flatbed Trailer'],\n",
       "      dtype='object')"
      ]
     },
     "execution_count": 47,
     "metadata": {},
     "output_type": "execute_result"
    }
   ],
   "source": [
    "fdf1.columns"
   ]
  },
  {
   "cell_type": "markdown",
   "metadata": {},
   "source": [
    "# Multilinear Regression Model Building"
   ]
  },
  {
   "cell_type": "code",
   "execution_count": 48,
   "metadata": {},
   "outputs": [],
   "source": [
    "fdf1['Intercept']=1"
   ]
  },
  {
   "cell_type": "code",
   "execution_count": 49,
   "metadata": {},
   "outputs": [
    {
     "data": {
      "text/html": [
       "<div>\n",
       "<style scoped>\n",
       "    .dataframe tbody tr th:only-of-type {\n",
       "        vertical-align: middle;\n",
       "    }\n",
       "\n",
       "    .dataframe tbody tr th {\n",
       "        vertical-align: top;\n",
       "    }\n",
       "\n",
       "    .dataframe thead th {\n",
       "        text-align: right;\n",
       "    }\n",
       "</style>\n",
       "<table border=\"1\" class=\"dataframe\">\n",
       "  <thead>\n",
       "    <tr style=\"text-align: right;\">\n",
       "      <th></th>\n",
       "      <th>duration</th>\n",
       "      <th>distance</th>\n",
       "      <th>weekday</th>\n",
       "      <th>month</th>\n",
       "      <th>day</th>\n",
       "      <th>diesel</th>\n",
       "      <th>year</th>\n",
       "      <th>Rate</th>\n",
       "      <th>Cross Border</th>\n",
       "      <th>13.5 M Flatbed Trailer</th>\n",
       "      <th>15 M Box Trailer</th>\n",
       "      <th>15 M Flatbed Trailer</th>\n",
       "      <th>Intercept</th>\n",
       "    </tr>\n",
       "  </thead>\n",
       "  <tbody>\n",
       "    <tr>\n",
       "      <th>0</th>\n",
       "      <td>82054.9</td>\n",
       "      <td>1801.5</td>\n",
       "      <td>0</td>\n",
       "      <td>10</td>\n",
       "      <td>1</td>\n",
       "      <td>2.30</td>\n",
       "      <td>2018</td>\n",
       "      <td>3500.0</td>\n",
       "      <td>1</td>\n",
       "      <td>0</td>\n",
       "      <td>0</td>\n",
       "      <td>1</td>\n",
       "      <td>1</td>\n",
       "    </tr>\n",
       "    <tr>\n",
       "      <th>1</th>\n",
       "      <td>7307.8</td>\n",
       "      <td>127.3</td>\n",
       "      <td>0</td>\n",
       "      <td>10</td>\n",
       "      <td>1</td>\n",
       "      <td>2.30</td>\n",
       "      <td>2018</td>\n",
       "      <td>850.0</td>\n",
       "      <td>0</td>\n",
       "      <td>0</td>\n",
       "      <td>0</td>\n",
       "      <td>1</td>\n",
       "      <td>1</td>\n",
       "    </tr>\n",
       "    <tr>\n",
       "      <th>2</th>\n",
       "      <td>28168.8</td>\n",
       "      <td>604.0</td>\n",
       "      <td>0</td>\n",
       "      <td>10</td>\n",
       "      <td>1</td>\n",
       "      <td>2.30</td>\n",
       "      <td>2018</td>\n",
       "      <td>2300.0</td>\n",
       "      <td>1</td>\n",
       "      <td>0</td>\n",
       "      <td>0</td>\n",
       "      <td>1</td>\n",
       "      <td>1</td>\n",
       "    </tr>\n",
       "    <tr>\n",
       "      <th>3</th>\n",
       "      <td>7307.8</td>\n",
       "      <td>127.3</td>\n",
       "      <td>1</td>\n",
       "      <td>10</td>\n",
       "      <td>2</td>\n",
       "      <td>2.30</td>\n",
       "      <td>2018</td>\n",
       "      <td>750.0</td>\n",
       "      <td>0</td>\n",
       "      <td>0</td>\n",
       "      <td>0</td>\n",
       "      <td>1</td>\n",
       "      <td>1</td>\n",
       "    </tr>\n",
       "    <tr>\n",
       "      <th>4</th>\n",
       "      <td>7307.8</td>\n",
       "      <td>127.3</td>\n",
       "      <td>1</td>\n",
       "      <td>10</td>\n",
       "      <td>2</td>\n",
       "      <td>2.30</td>\n",
       "      <td>2018</td>\n",
       "      <td>750.0</td>\n",
       "      <td>0</td>\n",
       "      <td>0</td>\n",
       "      <td>0</td>\n",
       "      <td>1</td>\n",
       "      <td>1</td>\n",
       "    </tr>\n",
       "    <tr>\n",
       "      <th>...</th>\n",
       "      <td>...</td>\n",
       "      <td>...</td>\n",
       "      <td>...</td>\n",
       "      <td>...</td>\n",
       "      <td>...</td>\n",
       "      <td>...</td>\n",
       "      <td>...</td>\n",
       "      <td>...</td>\n",
       "      <td>...</td>\n",
       "      <td>...</td>\n",
       "      <td>...</td>\n",
       "      <td>...</td>\n",
       "      <td>...</td>\n",
       "    </tr>\n",
       "    <tr>\n",
       "      <th>6173</th>\n",
       "      <td>53345.4</td>\n",
       "      <td>1159.0</td>\n",
       "      <td>1</td>\n",
       "      <td>12</td>\n",
       "      <td>31</td>\n",
       "      <td>2.37</td>\n",
       "      <td>2019</td>\n",
       "      <td>4900.0</td>\n",
       "      <td>1</td>\n",
       "      <td>0</td>\n",
       "      <td>0</td>\n",
       "      <td>0</td>\n",
       "      <td>1</td>\n",
       "    </tr>\n",
       "    <tr>\n",
       "      <th>6174</th>\n",
       "      <td>23867.3</td>\n",
       "      <td>501.7</td>\n",
       "      <td>1</td>\n",
       "      <td>12</td>\n",
       "      <td>31</td>\n",
       "      <td>2.37</td>\n",
       "      <td>2019</td>\n",
       "      <td>2150.0</td>\n",
       "      <td>1</td>\n",
       "      <td>1</td>\n",
       "      <td>0</td>\n",
       "      <td>0</td>\n",
       "      <td>1</td>\n",
       "    </tr>\n",
       "    <tr>\n",
       "      <th>6175</th>\n",
       "      <td>23867.3</td>\n",
       "      <td>501.7</td>\n",
       "      <td>1</td>\n",
       "      <td>12</td>\n",
       "      <td>31</td>\n",
       "      <td>2.37</td>\n",
       "      <td>2019</td>\n",
       "      <td>2150.0</td>\n",
       "      <td>1</td>\n",
       "      <td>1</td>\n",
       "      <td>0</td>\n",
       "      <td>0</td>\n",
       "      <td>1</td>\n",
       "    </tr>\n",
       "    <tr>\n",
       "      <th>6176</th>\n",
       "      <td>23867.3</td>\n",
       "      <td>501.7</td>\n",
       "      <td>1</td>\n",
       "      <td>12</td>\n",
       "      <td>31</td>\n",
       "      <td>2.37</td>\n",
       "      <td>2019</td>\n",
       "      <td>2150.0</td>\n",
       "      <td>1</td>\n",
       "      <td>1</td>\n",
       "      <td>0</td>\n",
       "      <td>0</td>\n",
       "      <td>1</td>\n",
       "    </tr>\n",
       "    <tr>\n",
       "      <th>6177</th>\n",
       "      <td>23867.3</td>\n",
       "      <td>501.7</td>\n",
       "      <td>1</td>\n",
       "      <td>12</td>\n",
       "      <td>31</td>\n",
       "      <td>2.37</td>\n",
       "      <td>2019</td>\n",
       "      <td>2150.0</td>\n",
       "      <td>1</td>\n",
       "      <td>1</td>\n",
       "      <td>0</td>\n",
       "      <td>0</td>\n",
       "      <td>1</td>\n",
       "    </tr>\n",
       "  </tbody>\n",
       "</table>\n",
       "<p>6178 rows × 13 columns</p>\n",
       "</div>"
      ],
      "text/plain": [
       "      duration  distance  weekday  month  day  diesel  year    Rate  \\\n",
       "0      82054.9    1801.5        0     10    1    2.30  2018  3500.0   \n",
       "1       7307.8     127.3        0     10    1    2.30  2018   850.0   \n",
       "2      28168.8     604.0        0     10    1    2.30  2018  2300.0   \n",
       "3       7307.8     127.3        1     10    2    2.30  2018   750.0   \n",
       "4       7307.8     127.3        1     10    2    2.30  2018   750.0   \n",
       "...        ...       ...      ...    ...  ...     ...   ...     ...   \n",
       "6173   53345.4    1159.0        1     12   31    2.37  2019  4900.0   \n",
       "6174   23867.3     501.7        1     12   31    2.37  2019  2150.0   \n",
       "6175   23867.3     501.7        1     12   31    2.37  2019  2150.0   \n",
       "6176   23867.3     501.7        1     12   31    2.37  2019  2150.0   \n",
       "6177   23867.3     501.7        1     12   31    2.37  2019  2150.0   \n",
       "\n",
       "      Cross Border  13.5 M Flatbed Trailer  15 M Box Trailer  \\\n",
       "0                1                       0                 0   \n",
       "1                0                       0                 0   \n",
       "2                1                       0                 0   \n",
       "3                0                       0                 0   \n",
       "4                0                       0                 0   \n",
       "...            ...                     ...               ...   \n",
       "6173             1                       0                 0   \n",
       "6174             1                       1                 0   \n",
       "6175             1                       1                 0   \n",
       "6176             1                       1                 0   \n",
       "6177             1                       1                 0   \n",
       "\n",
       "      15 M Flatbed Trailer  Intercept  \n",
       "0                        1          1  \n",
       "1                        1          1  \n",
       "2                        1          1  \n",
       "3                        1          1  \n",
       "4                        1          1  \n",
       "...                    ...        ...  \n",
       "6173                     0          1  \n",
       "6174                     0          1  \n",
       "6175                     0          1  \n",
       "6176                     0          1  \n",
       "6177                     0          1  \n",
       "\n",
       "[6178 rows x 13 columns]"
      ]
     },
     "execution_count": 49,
     "metadata": {},
     "output_type": "execute_result"
    }
   ],
   "source": [
    "fdf1"
   ]
  },
  {
   "cell_type": "code",
   "execution_count": 50,
   "metadata": {},
   "outputs": [
    {
     "data": {
      "text/plain": [
       "Index(['duration', 'distance', 'weekday', 'month', 'day', 'diesel', 'year',\n",
       "       'Rate', 'Cross Border', '13.5 M Flatbed Trailer', '15 M Box Trailer',\n",
       "       '15 M Flatbed Trailer', 'Intercept'],\n",
       "      dtype='object')"
      ]
     },
     "execution_count": 50,
     "metadata": {},
     "output_type": "execute_result"
    }
   ],
   "source": [
    "fdf1.columns"
   ]
  },
  {
   "cell_type": "code",
   "execution_count": 51,
   "metadata": {},
   "outputs": [],
   "source": [
    "X=fdf1.drop(['Rate'],axis='columns').values"
   ]
  },
  {
   "cell_type": "code",
   "execution_count": 52,
   "metadata": {},
   "outputs": [
    {
     "data": {
      "text/plain": [
       "array([[8.20549e+04, 1.80150e+03, 0.00000e+00, ..., 0.00000e+00,\n",
       "        1.00000e+00, 1.00000e+00],\n",
       "       [7.30780e+03, 1.27300e+02, 0.00000e+00, ..., 0.00000e+00,\n",
       "        1.00000e+00, 1.00000e+00],\n",
       "       [2.81688e+04, 6.04000e+02, 0.00000e+00, ..., 0.00000e+00,\n",
       "        1.00000e+00, 1.00000e+00],\n",
       "       ...,\n",
       "       [2.38673e+04, 5.01700e+02, 1.00000e+00, ..., 0.00000e+00,\n",
       "        0.00000e+00, 1.00000e+00],\n",
       "       [2.38673e+04, 5.01700e+02, 1.00000e+00, ..., 0.00000e+00,\n",
       "        0.00000e+00, 1.00000e+00],\n",
       "       [2.38673e+04, 5.01700e+02, 1.00000e+00, ..., 0.00000e+00,\n",
       "        0.00000e+00, 1.00000e+00]])"
      ]
     },
     "execution_count": 52,
     "metadata": {},
     "output_type": "execute_result"
    }
   ],
   "source": [
    "X"
   ]
  },
  {
   "cell_type": "code",
   "execution_count": 53,
   "metadata": {},
   "outputs": [],
   "source": [
    "Y=fdf1['Rate'].values"
   ]
  },
  {
   "cell_type": "code",
   "execution_count": 54,
   "metadata": {},
   "outputs": [
    {
     "data": {
      "text/plain": [
       "array([3500.,  850., 2300., ..., 2150., 2150., 2150.])"
      ]
     },
     "execution_count": 54,
     "metadata": {},
     "output_type": "execute_result"
    }
   ],
   "source": [
    "Y"
   ]
  },
  {
   "cell_type": "code",
   "execution_count": 55,
   "metadata": {},
   "outputs": [],
   "source": [
    "X=np.asfarray(X)"
   ]
  },
  {
   "cell_type": "code",
   "execution_count": 56,
   "metadata": {},
   "outputs": [],
   "source": [
    "Y=np.asfarray(Y)"
   ]
  },
  {
   "cell_type": "code",
   "execution_count": 57,
   "metadata": {},
   "outputs": [],
   "source": [
    "import statsmodels.api as sm"
   ]
  },
  {
   "cell_type": "code",
   "execution_count": 58,
   "metadata": {},
   "outputs": [],
   "source": [
    "regressor=sm.OLS(Y,X).fit()"
   ]
  },
  {
   "cell_type": "code",
   "execution_count": 59,
   "metadata": {},
   "outputs": [
    {
     "name": "stdout",
     "output_type": "stream",
     "text": [
      "                            OLS Regression Results                            \n",
      "==============================================================================\n",
      "Dep. Variable:                      y   R-squared:                       0.940\n",
      "Model:                            OLS   Adj. R-squared:                  0.940\n",
      "Method:                 Least Squares   F-statistic:                     8770.\n",
      "Date:                Fri, 18 Jun 2021   Prob (F-statistic):               0.00\n",
      "Time:                        01:22:32   Log-Likelihood:                -45708.\n",
      "No. Observations:                6178   AIC:                         9.144e+04\n",
      "Df Residuals:                    6166   BIC:                         9.152e+04\n",
      "Df Model:                          11                                         \n",
      "Covariance Type:            nonrobust                                         \n",
      "==============================================================================\n",
      "                 coef    std err          t      P>|t|      [0.025      0.975]\n",
      "------------------------------------------------------------------------------\n",
      "x1            -0.1471      0.002    -63.735      0.000      -0.152      -0.143\n",
      "x2             7.8929      0.097     81.413      0.000       7.703       8.083\n",
      "x3             0.0502      2.445      0.021      0.984      -4.742       4.843\n",
      "x4           -26.3989      1.869    -14.122      0.000     -30.063     -22.734\n",
      "x5            -0.6076      0.581     -1.045      0.296      -1.747       0.532\n",
      "x6          1034.2700     66.894     15.461      0.000     903.135    1165.405\n",
      "x7          -149.0367     19.106     -7.801      0.000    -186.490    -111.583\n",
      "x8           945.6920     18.197     51.970      0.000     910.020     981.364\n",
      "x9         -1023.3270     64.925    -15.762      0.000   -1150.603    -896.051\n",
      "x10         -773.7549     69.678    -11.105      0.000    -910.347    -637.163\n",
      "x11         -788.0161     64.773    -12.166      0.000    -914.994    -661.038\n",
      "const       3.002e+05   3.85e+04      7.791      0.000    2.25e+05    3.76e+05\n",
      "==============================================================================\n",
      "Omnibus:                     1877.125   Durbin-Watson:                   1.523\n",
      "Prob(Omnibus):                  0.000   Jarque-Bera (JB):            58871.580\n",
      "Skew:                           0.821   Prob(JB):                         0.00\n",
      "Kurtosis:                      18.034   Cond. No.                     3.58e+08\n",
      "==============================================================================\n",
      "\n",
      "Notes:\n",
      "[1] Standard Errors assume that the covariance matrix of the errors is correctly specified.\n",
      "[2] The condition number is large, 3.58e+08. This might indicate that there are\n",
      "strong multicollinearity or other numerical problems.\n"
     ]
    }
   ],
   "source": [
    "print(regressor.summary())"
   ]
  },
  {
   "cell_type": "code",
   "execution_count": 60,
   "metadata": {},
   "outputs": [],
   "source": [
    "X1=fdf1.drop(['Rate','weekday'],axis='columns').values"
   ]
  },
  {
   "cell_type": "code",
   "execution_count": 61,
   "metadata": {},
   "outputs": [],
   "source": [
    "X1=np.asfarray(X1)"
   ]
  },
  {
   "cell_type": "code",
   "execution_count": 62,
   "metadata": {},
   "outputs": [
    {
     "name": "stdout",
     "output_type": "stream",
     "text": [
      "                            OLS Regression Results                            \n",
      "==============================================================================\n",
      "Dep. Variable:                      y   R-squared:                       0.940\n",
      "Model:                            OLS   Adj. R-squared:                  0.940\n",
      "Method:                 Least Squares   F-statistic:                     9649.\n",
      "Date:                Fri, 18 Jun 2021   Prob (F-statistic):               0.00\n",
      "Time:                        01:22:32   Log-Likelihood:                -45708.\n",
      "No. Observations:                6178   AIC:                         9.144e+04\n",
      "Df Residuals:                    6167   BIC:                         9.151e+04\n",
      "Df Model:                          10                                         \n",
      "Covariance Type:            nonrobust                                         \n",
      "==============================================================================\n",
      "                 coef    std err          t      P>|t|      [0.025      0.975]\n",
      "------------------------------------------------------------------------------\n",
      "x1            -0.1471      0.002    -63.755      0.000      -0.152      -0.143\n",
      "x2             7.8929      0.097     81.432      0.000       7.703       8.083\n",
      "x3           -26.3994      1.869    -14.125      0.000     -30.063     -22.736\n",
      "x4            -0.6079      0.581     -1.046      0.296      -1.747       0.532\n",
      "x5          1034.2958     66.876     15.466      0.000     903.195    1165.397\n",
      "x6          -149.0468     19.098     -7.804      0.000    -186.485    -111.608\n",
      "x7           945.6863     18.193     51.980      0.000     910.021     981.351\n",
      "x8         -1023.3214     64.920    -15.763      0.000   -1150.586    -896.056\n",
      "x9          -773.7381     69.667    -11.106      0.000    -910.310    -637.166\n",
      "x10         -788.0226     64.767    -12.167      0.000    -914.989    -661.056\n",
      "const       3.002e+05   3.85e+04      7.795      0.000    2.25e+05    3.76e+05\n",
      "==============================================================================\n",
      "Omnibus:                     1877.140   Durbin-Watson:                   1.523\n",
      "Prob(Omnibus):                  0.000   Jarque-Bera (JB):            58874.801\n",
      "Skew:                           0.821   Prob(JB):                         0.00\n",
      "Kurtosis:                      18.034   Cond. No.                     3.58e+08\n",
      "==============================================================================\n",
      "\n",
      "Notes:\n",
      "[1] Standard Errors assume that the covariance matrix of the errors is correctly specified.\n",
      "[2] The condition number is large, 3.58e+08. This might indicate that there are\n",
      "strong multicollinearity or other numerical problems.\n"
     ]
    }
   ],
   "source": [
    "regressor=sm.OLS(Y,X1).fit()\n",
    "print(regressor.summary())"
   ]
  },
  {
   "cell_type": "code",
   "execution_count": 63,
   "metadata": {},
   "outputs": [],
   "source": [
    "X2=fdf1.drop(['Rate','weekday','day'],axis='columns').values"
   ]
  },
  {
   "cell_type": "code",
   "execution_count": 64,
   "metadata": {},
   "outputs": [],
   "source": [
    "X2=np.asfarray(X2)"
   ]
  },
  {
   "cell_type": "code",
   "execution_count": 65,
   "metadata": {},
   "outputs": [
    {
     "name": "stdout",
     "output_type": "stream",
     "text": [
      "                            OLS Regression Results                            \n",
      "==============================================================================\n",
      "Dep. Variable:                      y   R-squared:                       0.940\n",
      "Model:                            OLS   Adj. R-squared:                  0.940\n",
      "Method:                 Least Squares   F-statistic:                 1.072e+04\n",
      "Date:                Fri, 18 Jun 2021   Prob (F-statistic):               0.00\n",
      "Time:                        01:22:33   Log-Likelihood:                -45708.\n",
      "No. Observations:                6178   AIC:                         9.144e+04\n",
      "Df Residuals:                    6168   BIC:                         9.150e+04\n",
      "Df Model:                           9                                         \n",
      "Covariance Type:            nonrobust                                         \n",
      "==============================================================================\n",
      "                 coef    std err          t      P>|t|      [0.025      0.975]\n",
      "------------------------------------------------------------------------------\n",
      "x1            -0.1472      0.002    -63.824      0.000      -0.152      -0.143\n",
      "x2             7.8956      0.097     81.488      0.000       7.706       8.086\n",
      "x3           -26.3403      1.868    -14.100      0.000     -30.002     -22.678\n",
      "x4          1033.5873     66.873     15.456      0.000     902.492    1164.683\n",
      "x5          -148.7516     19.096     -7.790      0.000    -186.186    -111.317\n",
      "x6           946.5648     18.174     52.084      0.000     910.938     982.192\n",
      "x7         -1022.1520     64.910    -15.747      0.000   -1149.399    -894.905\n",
      "x8          -772.4459     69.657    -11.089      0.000    -908.997    -635.894\n",
      "x9          -787.6095     64.766    -12.161      0.000    -914.574    -660.645\n",
      "const       2.996e+05   3.85e+04      7.780      0.000    2.24e+05    3.75e+05\n",
      "==============================================================================\n",
      "Omnibus:                     1870.336   Durbin-Watson:                   1.523\n",
      "Prob(Omnibus):                  0.000   Jarque-Bera (JB):            58542.958\n",
      "Skew:                           0.816   Prob(JB):                         0.00\n",
      "Kurtosis:                      17.992   Cond. No.                     3.58e+08\n",
      "==============================================================================\n",
      "\n",
      "Notes:\n",
      "[1] Standard Errors assume that the covariance matrix of the errors is correctly specified.\n",
      "[2] The condition number is large, 3.58e+08. This might indicate that there are\n",
      "strong multicollinearity or other numerical problems.\n"
     ]
    }
   ],
   "source": [
    "regressor=sm.OLS(Y,X2).fit()\n",
    "print(regressor.summary())"
   ]
  },
  {
   "cell_type": "markdown",
   "metadata": {},
   "source": [
    "## Handling Multicollinearity Issue"
   ]
  },
  {
   "cell_type": "code",
   "execution_count": 66,
   "metadata": {},
   "outputs": [],
   "source": [
    "from statsmodels.stats.outliers_influence import variance_inflation_factor"
   ]
  },
  {
   "cell_type": "code",
   "execution_count": 67,
   "metadata": {},
   "outputs": [],
   "source": [
    "def calculate_vif(feat):\n",
    "    vif=pd.DataFrame()\n",
    "    vif['features']=feat.columns\n",
    "    vif['Vif_value']=[variance_inflation_factor(feat.values,i) for i in range(feat.shape[1])]\n",
    "    return (vif)"
   ]
  },
  {
   "cell_type": "code",
   "execution_count": 68,
   "metadata": {},
   "outputs": [
    {
     "data": {
      "text/html": [
       "<div>\n",
       "<style scoped>\n",
       "    .dataframe tbody tr th:only-of-type {\n",
       "        vertical-align: middle;\n",
       "    }\n",
       "\n",
       "    .dataframe tbody tr th {\n",
       "        vertical-align: top;\n",
       "    }\n",
       "\n",
       "    .dataframe thead th {\n",
       "        text-align: right;\n",
       "    }\n",
       "</style>\n",
       "<table border=\"1\" class=\"dataframe\">\n",
       "  <thead>\n",
       "    <tr style=\"text-align: right;\">\n",
       "      <th></th>\n",
       "      <th>features</th>\n",
       "      <th>Vif_value</th>\n",
       "    </tr>\n",
       "  </thead>\n",
       "  <tbody>\n",
       "    <tr>\n",
       "      <th>0</th>\n",
       "      <td>duration</td>\n",
       "      <td>1.972928e+02</td>\n",
       "    </tr>\n",
       "    <tr>\n",
       "      <th>1</th>\n",
       "      <td>distance</td>\n",
       "      <td>1.892858e+02</td>\n",
       "    </tr>\n",
       "    <tr>\n",
       "      <th>2</th>\n",
       "      <td>month</td>\n",
       "      <td>1.420520e+00</td>\n",
       "    </tr>\n",
       "    <tr>\n",
       "      <th>3</th>\n",
       "      <td>diesel</td>\n",
       "      <td>1.247467e+00</td>\n",
       "    </tr>\n",
       "    <tr>\n",
       "      <th>4</th>\n",
       "      <td>year</td>\n",
       "      <td>1.622656e+00</td>\n",
       "    </tr>\n",
       "    <tr>\n",
       "      <th>5</th>\n",
       "      <td>Cross Border</td>\n",
       "      <td>3.229510e+00</td>\n",
       "    </tr>\n",
       "    <tr>\n",
       "      <th>6</th>\n",
       "      <td>13.5 M Flatbed Trailer</td>\n",
       "      <td>3.662034e+01</td>\n",
       "    </tr>\n",
       "    <tr>\n",
       "      <th>7</th>\n",
       "      <td>15 M Box Trailer</td>\n",
       "      <td>4.301311e+00</td>\n",
       "    </tr>\n",
       "    <tr>\n",
       "      <th>8</th>\n",
       "      <td>15 M Flatbed Trailer</td>\n",
       "      <td>3.801473e+01</td>\n",
       "    </tr>\n",
       "    <tr>\n",
       "      <th>9</th>\n",
       "      <td>Intercept</td>\n",
       "      <td>5.853901e+07</td>\n",
       "    </tr>\n",
       "  </tbody>\n",
       "</table>\n",
       "</div>"
      ],
      "text/plain": [
       "                 features     Vif_value\n",
       "0                duration  1.972928e+02\n",
       "1                distance  1.892858e+02\n",
       "2                   month  1.420520e+00\n",
       "3                  diesel  1.247467e+00\n",
       "4                    year  1.622656e+00\n",
       "5            Cross Border  3.229510e+00\n",
       "6  13.5 M Flatbed Trailer  3.662034e+01\n",
       "7        15 M Box Trailer  4.301311e+00\n",
       "8    15 M Flatbed Trailer  3.801473e+01\n",
       "9               Intercept  5.853901e+07"
      ]
     },
     "execution_count": 68,
     "metadata": {},
     "output_type": "execute_result"
    }
   ],
   "source": [
    "feat=fdf1.drop(['Rate','weekday','day'],axis='columns')\n",
    "calculate_vif(feat)"
   ]
  },
  {
   "cell_type": "code",
   "execution_count": 69,
   "metadata": {},
   "outputs": [],
   "source": [
    "X3=fdf1.drop(['Rate','weekday','day','duration'],axis='columns')"
   ]
  },
  {
   "cell_type": "code",
   "execution_count": 70,
   "metadata": {},
   "outputs": [
    {
     "data": {
      "text/html": [
       "<div>\n",
       "<style scoped>\n",
       "    .dataframe tbody tr th:only-of-type {\n",
       "        vertical-align: middle;\n",
       "    }\n",
       "\n",
       "    .dataframe tbody tr th {\n",
       "        vertical-align: top;\n",
       "    }\n",
       "\n",
       "    .dataframe thead th {\n",
       "        text-align: right;\n",
       "    }\n",
       "</style>\n",
       "<table border=\"1\" class=\"dataframe\">\n",
       "  <thead>\n",
       "    <tr style=\"text-align: right;\">\n",
       "      <th></th>\n",
       "      <th>features</th>\n",
       "      <th>Vif_value</th>\n",
       "    </tr>\n",
       "  </thead>\n",
       "  <tbody>\n",
       "    <tr>\n",
       "      <th>0</th>\n",
       "      <td>distance</td>\n",
       "      <td>2.819518e+00</td>\n",
       "    </tr>\n",
       "    <tr>\n",
       "      <th>1</th>\n",
       "      <td>month</td>\n",
       "      <td>1.419347e+00</td>\n",
       "    </tr>\n",
       "    <tr>\n",
       "      <th>2</th>\n",
       "      <td>diesel</td>\n",
       "      <td>1.245669e+00</td>\n",
       "    </tr>\n",
       "    <tr>\n",
       "      <th>3</th>\n",
       "      <td>year</td>\n",
       "      <td>1.621301e+00</td>\n",
       "    </tr>\n",
       "    <tr>\n",
       "      <th>4</th>\n",
       "      <td>Cross Border</td>\n",
       "      <td>2.887048e+00</td>\n",
       "    </tr>\n",
       "    <tr>\n",
       "      <th>5</th>\n",
       "      <td>13.5 M Flatbed Trailer</td>\n",
       "      <td>3.473983e+01</td>\n",
       "    </tr>\n",
       "    <tr>\n",
       "      <th>6</th>\n",
       "      <td>15 M Box Trailer</td>\n",
       "      <td>4.289146e+00</td>\n",
       "    </tr>\n",
       "    <tr>\n",
       "      <th>7</th>\n",
       "      <td>15 M Flatbed Trailer</td>\n",
       "      <td>3.601300e+01</td>\n",
       "    </tr>\n",
       "    <tr>\n",
       "      <th>8</th>\n",
       "      <td>Intercept</td>\n",
       "      <td>5.848964e+07</td>\n",
       "    </tr>\n",
       "  </tbody>\n",
       "</table>\n",
       "</div>"
      ],
      "text/plain": [
       "                 features     Vif_value\n",
       "0                distance  2.819518e+00\n",
       "1                   month  1.419347e+00\n",
       "2                  diesel  1.245669e+00\n",
       "3                    year  1.621301e+00\n",
       "4            Cross Border  2.887048e+00\n",
       "5  13.5 M Flatbed Trailer  3.473983e+01\n",
       "6        15 M Box Trailer  4.289146e+00\n",
       "7    15 M Flatbed Trailer  3.601300e+01\n",
       "8               Intercept  5.848964e+07"
      ]
     },
     "execution_count": 70,
     "metadata": {},
     "output_type": "execute_result"
    }
   ],
   "source": [
    "calculate_vif(X3)"
   ]
  },
  {
   "cell_type": "code",
   "execution_count": 71,
   "metadata": {},
   "outputs": [],
   "source": [
    "X3=fdf1.drop(['Rate','weekday','day','duration'],axis='columns').values"
   ]
  },
  {
   "cell_type": "code",
   "execution_count": 72,
   "metadata": {},
   "outputs": [
    {
     "name": "stdout",
     "output_type": "stream",
     "text": [
      "                            OLS Regression Results                            \n",
      "==============================================================================\n",
      "Dep. Variable:                      y   R-squared:                       0.900\n",
      "Model:                            OLS   Adj. R-squared:                  0.900\n",
      "Method:                 Least Squares   F-statistic:                     6958.\n",
      "Date:                Fri, 18 Jun 2021   Prob (F-statistic):               0.00\n",
      "Time:                        01:22:34   Log-Likelihood:                -47275.\n",
      "No. Observations:                6178   AIC:                         9.457e+04\n",
      "Df Residuals:                    6169   BIC:                         9.463e+04\n",
      "Df Model:                           8                                         \n",
      "Covariance Type:            nonrobust                                         \n",
      "==============================================================================\n",
      "                 coef    std err          t      P>|t|      [0.025      0.975]\n",
      "------------------------------------------------------------------------------\n",
      "x1             1.7577      0.015    115.359      0.000       1.728       1.788\n",
      "x2           -29.7665      2.406    -12.372      0.000     -34.483     -25.050\n",
      "x3          1195.6296     86.102     13.886      0.000    1026.839    1364.420\n",
      "x4          -183.9763     24.594     -7.480      0.000    -232.189    -135.763\n",
      "x5           568.8436     22.140     25.693      0.000     525.441     612.246\n",
      "x6         -1960.9580     81.460    -24.073      0.000   -2120.647   -1801.269\n",
      "x7         -1008.8745     89.624    -11.257      0.000   -1184.568    -833.181\n",
      "x8         -1736.1616     81.223    -21.375      0.000   -1895.387   -1576.936\n",
      "const        3.71e+05   4.96e+04      7.480      0.000    2.74e+05    4.68e+05\n",
      "==============================================================================\n",
      "Omnibus:                     1570.434   Durbin-Watson:                   1.560\n",
      "Prob(Omnibus):                  0.000   Jarque-Bera (JB):            33654.464\n",
      "Skew:                           0.693   Prob(JB):                         0.00\n",
      "Kurtosis:                      14.350   Cond. No.                     1.66e+07\n",
      "==============================================================================\n",
      "\n",
      "Notes:\n",
      "[1] Standard Errors assume that the covariance matrix of the errors is correctly specified.\n",
      "[2] The condition number is large, 1.66e+07. This might indicate that there are\n",
      "strong multicollinearity or other numerical problems.\n"
     ]
    }
   ],
   "source": [
    "regressor=sm.OLS(Y,X3).fit()\n",
    "print(regressor.summary())"
   ]
  },
  {
   "cell_type": "code",
   "execution_count": 90,
   "metadata": {},
   "outputs": [],
   "source": [
    "X4=fdf1.drop(['Rate','weekday','day','duration','13.5 M Flatbed Trailer',],axis='columns')"
   ]
  },
  {
   "cell_type": "code",
   "execution_count": 91,
   "metadata": {},
   "outputs": [
    {
     "data": {
      "text/plain": [
       "Index(['distance', 'month', 'diesel', 'year', 'Cross Border',\n",
       "       '15 M Box Trailer', '15 M Flatbed Trailer', 'Intercept'],\n",
       "      dtype='object')"
      ]
     },
     "execution_count": 91,
     "metadata": {},
     "output_type": "execute_result"
    }
   ],
   "source": [
    "X4.columns"
   ]
  },
  {
   "cell_type": "code",
   "execution_count": 92,
   "metadata": {},
   "outputs": [
    {
     "data": {
      "text/html": [
       "<div>\n",
       "<style scoped>\n",
       "    .dataframe tbody tr th:only-of-type {\n",
       "        vertical-align: middle;\n",
       "    }\n",
       "\n",
       "    .dataframe tbody tr th {\n",
       "        vertical-align: top;\n",
       "    }\n",
       "\n",
       "    .dataframe thead th {\n",
       "        text-align: right;\n",
       "    }\n",
       "</style>\n",
       "<table border=\"1\" class=\"dataframe\">\n",
       "  <thead>\n",
       "    <tr style=\"text-align: right;\">\n",
       "      <th></th>\n",
       "      <th>features</th>\n",
       "      <th>Vif_value</th>\n",
       "    </tr>\n",
       "  </thead>\n",
       "  <tbody>\n",
       "    <tr>\n",
       "      <th>0</th>\n",
       "      <td>distance</td>\n",
       "      <td>2.736729e+00</td>\n",
       "    </tr>\n",
       "    <tr>\n",
       "      <th>1</th>\n",
       "      <td>month</td>\n",
       "      <td>1.397172e+00</td>\n",
       "    </tr>\n",
       "    <tr>\n",
       "      <th>2</th>\n",
       "      <td>diesel</td>\n",
       "      <td>1.244482e+00</td>\n",
       "    </tr>\n",
       "    <tr>\n",
       "      <th>3</th>\n",
       "      <td>year</td>\n",
       "      <td>1.604567e+00</td>\n",
       "    </tr>\n",
       "    <tr>\n",
       "      <th>4</th>\n",
       "      <td>Cross Border</td>\n",
       "      <td>2.849187e+00</td>\n",
       "    </tr>\n",
       "    <tr>\n",
       "      <th>5</th>\n",
       "      <td>15 M Box Trailer</td>\n",
       "      <td>1.141561e+00</td>\n",
       "    </tr>\n",
       "    <tr>\n",
       "      <th>6</th>\n",
       "      <td>15 M Flatbed Trailer</td>\n",
       "      <td>1.163358e+00</td>\n",
       "    </tr>\n",
       "    <tr>\n",
       "      <th>7</th>\n",
       "      <td>Intercept</td>\n",
       "      <td>5.786618e+07</td>\n",
       "    </tr>\n",
       "  </tbody>\n",
       "</table>\n",
       "</div>"
      ],
      "text/plain": [
       "               features     Vif_value\n",
       "0              distance  2.736729e+00\n",
       "1                 month  1.397172e+00\n",
       "2                diesel  1.244482e+00\n",
       "3                  year  1.604567e+00\n",
       "4          Cross Border  2.849187e+00\n",
       "5      15 M Box Trailer  1.141561e+00\n",
       "6  15 M Flatbed Trailer  1.163358e+00\n",
       "7             Intercept  5.786618e+07"
      ]
     },
     "execution_count": 92,
     "metadata": {},
     "output_type": "execute_result"
    }
   ],
   "source": [
    "calculate_vif(X4)"
   ]
  },
  {
   "cell_type": "code",
   "execution_count": 93,
   "metadata": {},
   "outputs": [],
   "source": [
    "X4=np.asfarray(X4)"
   ]
  },
  {
   "cell_type": "code",
   "execution_count": 94,
   "metadata": {},
   "outputs": [
    {
     "name": "stdout",
     "output_type": "stream",
     "text": [
      "                            OLS Regression Results                            \n",
      "==============================================================================\n",
      "Dep. Variable:                      y   R-squared:                       0.891\n",
      "Model:                            OLS   Adj. R-squared:                  0.891\n",
      "Method:                 Least Squares   F-statistic:                     7195.\n",
      "Date:                Fri, 18 Jun 2021   Prob (F-statistic):               0.00\n",
      "Time:                        01:24:10   Log-Likelihood:                -47552.\n",
      "No. Observations:                6178   AIC:                         9.512e+04\n",
      "Df Residuals:                    6170   BIC:                         9.517e+04\n",
      "Df Model:                           7                                         \n",
      "Covariance Type:            nonrobust                                         \n",
      "==============================================================================\n",
      "                 coef    std err          t      P>|t|      [0.025      0.975]\n",
      "------------------------------------------------------------------------------\n",
      "x1             1.8206      0.016    115.964      0.000       1.790       1.851\n",
      "x2           -22.5270      2.497     -9.023      0.000     -27.421     -17.633\n",
      "x3          1131.6598     90.006     12.573      0.000     955.217    1308.102\n",
      "x4          -123.8276     25.588     -4.839      0.000    -173.989     -73.666\n",
      "x5           507.8086     23.003     22.076      0.000     462.716     552.902\n",
      "x6           839.3413     48.356     17.358      0.000     744.547     934.135\n",
      "x7           187.2605     15.267     12.265      0.000     157.331     217.190\n",
      "const       2.477e+05   5.16e+04      4.801      0.000    1.47e+05    3.49e+05\n",
      "==============================================================================\n",
      "Omnibus:                     1453.053   Durbin-Watson:                   1.586\n",
      "Prob(Omnibus):                  0.000   Jarque-Bera (JB):            26457.511\n",
      "Skew:                           0.649   Prob(JB):                         0.00\n",
      "Kurtosis:                      13.055   Cond. No.                     1.65e+07\n",
      "==============================================================================\n",
      "\n",
      "Notes:\n",
      "[1] Standard Errors assume that the covariance matrix of the errors is correctly specified.\n",
      "[2] The condition number is large, 1.65e+07. This might indicate that there are\n",
      "strong multicollinearity or other numerical problems.\n"
     ]
    }
   ],
   "source": [
    "regressor=sm.OLS(Y,X4).fit()\n",
    "print(regressor.summary())"
   ]
  },
  {
   "cell_type": "markdown",
   "metadata": {},
   "source": [
    "# Cross Validation"
   ]
  },
  {
   "cell_type": "code",
   "execution_count": 95,
   "metadata": {},
   "outputs": [],
   "source": [
    "P=fdf1.drop(['Rate','weekday','day','duration','13.5 M Flatbed Trailer',],axis='columns')"
   ]
  },
  {
   "cell_type": "code",
   "execution_count": 96,
   "metadata": {},
   "outputs": [],
   "source": [
    "Q=fdf1.Rate"
   ]
  },
  {
   "cell_type": "code",
   "execution_count": 97,
   "metadata": {},
   "outputs": [],
   "source": [
    "from sklearn.linear_model import LinearRegression\n",
    "model=LinearRegression()"
   ]
  },
  {
   "cell_type": "markdown",
   "metadata": {},
   "source": [
    "## HoldOut Validation Approach-Train and Test Split"
   ]
  },
  {
   "cell_type": "code",
   "execution_count": 98,
   "metadata": {},
   "outputs": [],
   "source": [
    "from sklearn.model_selection import train_test_split\n",
    "X_Train, X_Test, Y_Train, Y_Test = train_test_split(P, Q, test_size = 0.3, random_state = 0)"
   ]
  },
  {
   "cell_type": "code",
   "execution_count": 99,
   "metadata": {},
   "outputs": [
    {
     "name": "stdout",
     "output_type": "stream",
     "text": [
      "0.8883467742246651\n"
     ]
    }
   ],
   "source": [
    "model.fit(X_Train, Y_Train)\n",
    "result = model.score(X_Test, Y_Test)\n",
    "print(result)"
   ]
  },
  {
   "cell_type": "markdown",
   "metadata": {},
   "source": [
    "## K Fold Cross Validation "
   ]
  },
  {
   "cell_type": "code",
   "execution_count": 100,
   "metadata": {},
   "outputs": [],
   "source": [
    "from sklearn.model_selection import KFold\n",
    "kfold_validation=KFold(10)"
   ]
  },
  {
   "cell_type": "code",
   "execution_count": 101,
   "metadata": {},
   "outputs": [
    {
     "name": "stdout",
     "output_type": "stream",
     "text": [
      "[0.8430308  0.89558501 0.87915143 0.89284035 0.88644678 0.93577168\n",
      " 0.82419125 0.88317806 0.81113127 0.81122727]\n"
     ]
    }
   ],
   "source": [
    "import numpy as np\n",
    "from sklearn.model_selection import cross_val_score\n",
    "results=cross_val_score(model,P,Q,cv=kfold_validation)\n",
    "print(results)"
   ]
  },
  {
   "cell_type": "code",
   "execution_count": 102,
   "metadata": {},
   "outputs": [
    {
     "name": "stdout",
     "output_type": "stream",
     "text": [
      "0.8662553916129369\n"
     ]
    }
   ],
   "source": [
    "print(np.mean(results))"
   ]
  },
  {
   "cell_type": "markdown",
   "metadata": {},
   "source": [
    "## Repeated Random Test Train Splits "
   ]
  },
  {
   "cell_type": "code",
   "execution_count": 103,
   "metadata": {},
   "outputs": [],
   "source": [
    "from sklearn.model_selection import ShuffleSplit\n",
    "ssplit=ShuffleSplit(n_splits=10,test_size=0.30)\n",
    "results=cross_val_score(model,P,Q,cv=ssplit)"
   ]
  },
  {
   "cell_type": "code",
   "execution_count": 104,
   "metadata": {},
   "outputs": [
    {
     "data": {
      "text/plain": [
       "array([0.88956634, 0.9003375 , 0.89845075, 0.88174332, 0.8746849 ,\n",
       "       0.88303414, 0.90184829, 0.88483536, 0.89539876, 0.88801036])"
      ]
     },
     "execution_count": 104,
     "metadata": {},
     "output_type": "execute_result"
    }
   ],
   "source": [
    "results"
   ]
  },
  {
   "cell_type": "code",
   "execution_count": 105,
   "metadata": {},
   "outputs": [
    {
     "data": {
      "text/plain": [
       "0.8897909724933519"
      ]
     },
     "execution_count": 105,
     "metadata": {},
     "output_type": "execute_result"
    }
   ],
   "source": [
    "np.mean(results)"
   ]
  },
  {
   "cell_type": "code",
   "execution_count": 106,
   "metadata": {},
   "outputs": [],
   "source": [
    "fdf2=fdf1.drop(['Rate'],axis='columns')"
   ]
  },
  {
   "cell_type": "markdown",
   "metadata": {},
   "source": [
    "# Correlation Matrix"
   ]
  },
  {
   "cell_type": "code",
   "execution_count": 107,
   "metadata": {},
   "outputs": [
    {
     "data": {
      "text/plain": [
       "<AxesSubplot:>"
      ]
     },
     "execution_count": 107,
     "metadata": {},
     "output_type": "execute_result"
    },
    {
     "data": {
      "image/png": "[encoded data removed]",
      "text/plain": [
       "<Figure size 720x504 with 2 Axes>"
      ]
     },
     "metadata": {
      "needs_background": "light"
     },
     "output_type": "display_data"
    }
   ],
   "source": [
    "import matplotlib.pyplot as plt\n",
    "import seaborn as sns\n",
    "plt.figure(figsize=(10,7))\n",
    "sns.heatmap(fdf2.corr(),annot=True,linewidths=2)"
   ]
  },
  {
   "cell_type": "code",
   "execution_count": null,
   "metadata": {},
   "outputs": [],
   "source": []
  },
  {
   "cell_type": "code",
   "execution_count": null,
   "metadata": {},
   "outputs": [],
   "source": []
  },
  {
   "cell_type": "code",
   "execution_count": null,
   "metadata": {},
   "outputs": [],
   "source": []
  }
 ],
 "metadata": {
  "kernelspec": {
   "display_name": "Python 3",
   "language": "python",
   "name": "python3"
  },
  "language_info": {
   "codemirror_mode": {
    "name": "ipython",
    "version": 3
   },
   "file_extension": ".py",
   "mimetype": "text/x-python",
   "name": "python",
   "nbconvert_exporter": "python",
   "pygments_lexer": "ipython3",
   "version": "3.8.5"
  }
 },
 "nbformat": 4,
 "nbformat_minor": 4
}
